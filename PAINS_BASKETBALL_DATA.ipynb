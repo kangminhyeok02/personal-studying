{
 "cells": [
  {
   "cell_type": "code",
   "execution_count": 98,
   "id": "9c036fcf",
   "metadata": {
    "scrolled": false
   },
   "outputs": [],
   "source": [
    "import pandas as pd\n",
    "import numpy as np \n",
    "import scipy.stats\n",
    "import matplotlib.pyplot as plt\n",
    "import seaborn as sns\n",
    "import matplotlib\n",
    "df=pd.read_excel(\"KBL_BASKETBALL.xlsx\",index_col='선수명')\n",
    "df_e=pd.read_excel(\"EFF_V.xlsx\")\n",
    "df['EFF']=df['PTS']+df['TOT']+df['AST']+df['STL']+df['BS']-df['TO']-(df['FTA']-df['FT'])-(df['FGA']-df['FG'])\n",
    "df.sort_values(by='EFF',ascending=False,inplace=True)\n",
    "p=df_e['SALARY']\n",
    "p=p.values.tolist()\n",
    "df.dropna(inplace= True)\n",
    "df['SALARY']=p\n",
    "df\n",
    "df.to_excel('finall_data.xlsx')"
   ]
  },
  {
   "cell_type": "code",
   "execution_count": 2,
   "id": "90fadd86",
   "metadata": {
    "scrolled": false
   },
   "outputs": [
    {
     "data": {
      "text/plain": [
       "<function matplotlib.pyplot.plot(*args, scalex=True, scaley=True, data=None, **kwargs)>"
      ]
     },
     "execution_count": 2,
     "metadata": {},
     "output_type": "execute_result"
    },
    {
     "data": {
      "image/png": "[encoded data removed]",
      "text/plain": [
       "<Figure size 640x480 with 1 Axes>"
      ]
     },
     "metadata": {},
     "output_type": "display_data"
    }
   ],
   "source": [
    "plt.scatter(df.EFF,df.SALARY)\n",
    "plt.xlabel('EFF')\n",
    "plt.ylabel('SALARY')\n",
    "plt.plot"
   ]
  },
  {
   "cell_type": "code",
   "execution_count": 4,
   "id": "c3dba9e6",
   "metadata": {},
   "outputs": [
    {
     "ename": "SyntaxError",
     "evalue": "invalid syntax (2909939705.py, line 1)",
     "output_type": "error",
     "traceback": [
      "\u001b[1;36m  File \u001b[1;32m\"C:\\Users\\pc\\AppData\\Local\\Temp\\ipykernel_12060\\2909939705.py\"\u001b[1;36m, line \u001b[1;32m1\u001b[0m\n\u001b[1;33m    df=df.dropna()df.drop(['N'], axis=0, inplace=True)\u001b[0m\n\u001b[1;37m                  ^\u001b[0m\n\u001b[1;31mSyntaxError\u001b[0m\u001b[1;31m:\u001b[0m invalid syntax\n"
     ]
    }
   ],
   "source": [
    "df=df.dropna()df.drop(['N'], axis=0, inplace=True)\n",
    "np.corrcoef(df.EFF,df.SALARY)[0,1]"
   ]
  },
  {
   "cell_type": "code",
   "execution_count": 5,
   "id": "c80a8841",
   "metadata": {},
   "outputs": [
    {
     "data": {
      "text/html": [
       "<div>\n",
       "<style scoped>\n",
       "    .dataframe tbody tr th:only-of-type {\n",
       "        vertical-align: middle;\n",
       "    }\n",
       "\n",
       "    .dataframe tbody tr th {\n",
       "        vertical-align: top;\n",
       "    }\n",
       "\n",
       "    .dataframe thead th {\n",
       "        text-align: right;\n",
       "    }\n",
       "</style>\n",
       "<table border=\"1\" class=\"dataframe\">\n",
       "  <thead>\n",
       "    <tr style=\"text-align: right;\">\n",
       "      <th></th>\n",
       "      <th>순위</th>\n",
       "      <th>팀</th>\n",
       "      <th>PTS</th>\n",
       "      <th>FG</th>\n",
       "      <th>FGA</th>\n",
       "      <th>FG%</th>\n",
       "      <th>FT</th>\n",
       "      <th>FTA</th>\n",
       "      <th>FT%</th>\n",
       "      <th>PP</th>\n",
       "      <th>...</th>\n",
       "      <th>OFF</th>\n",
       "      <th>DEF</th>\n",
       "      <th>TOT</th>\n",
       "      <th>AST</th>\n",
       "      <th>TO</th>\n",
       "      <th>STL</th>\n",
       "      <th>BS</th>\n",
       "      <th>PF</th>\n",
       "      <th>EFF</th>\n",
       "      <th>SALARY</th>\n",
       "    </tr>\n",
       "    <tr>\n",
       "      <th>선수명</th>\n",
       "      <th></th>\n",
       "      <th></th>\n",
       "      <th></th>\n",
       "      <th></th>\n",
       "      <th></th>\n",
       "      <th></th>\n",
       "      <th></th>\n",
       "      <th></th>\n",
       "      <th></th>\n",
       "      <th></th>\n",
       "      <th></th>\n",
       "      <th></th>\n",
       "      <th></th>\n",
       "      <th></th>\n",
       "      <th></th>\n",
       "      <th></th>\n",
       "      <th></th>\n",
       "      <th></th>\n",
       "      <th></th>\n",
       "      <th></th>\n",
       "      <th></th>\n",
       "    </tr>\n",
       "  </thead>\n",
       "  <tbody>\n",
       "    <tr>\n",
       "      <th>자밀 워니</th>\n",
       "      <td>1.0</td>\n",
       "      <td>서울 SK</td>\n",
       "      <td>23.8</td>\n",
       "      <td>10.2</td>\n",
       "      <td>19.7</td>\n",
       "      <td>51.8</td>\n",
       "      <td>2.9</td>\n",
       "      <td>4.4</td>\n",
       "      <td>65.6</td>\n",
       "      <td>9.1</td>\n",
       "      <td>...</td>\n",
       "      <td>3.0</td>\n",
       "      <td>8.2</td>\n",
       "      <td>11.2</td>\n",
       "      <td>3.1</td>\n",
       "      <td>1.9</td>\n",
       "      <td>1.2</td>\n",
       "      <td>1.0</td>\n",
       "      <td>1.6</td>\n",
       "      <td>27.4</td>\n",
       "      <td>NaN</td>\n",
       "    </tr>\n",
       "    <tr>\n",
       "      <th>게이지 프림</th>\n",
       "      <td>3.0</td>\n",
       "      <td>울산 현대모비스</td>\n",
       "      <td>18.7</td>\n",
       "      <td>7.6</td>\n",
       "      <td>13.5</td>\n",
       "      <td>56.0</td>\n",
       "      <td>3.6</td>\n",
       "      <td>4.8</td>\n",
       "      <td>74.3</td>\n",
       "      <td>6.5</td>\n",
       "      <td>...</td>\n",
       "      <td>4.0</td>\n",
       "      <td>6.9</td>\n",
       "      <td>11.0</td>\n",
       "      <td>2.3</td>\n",
       "      <td>1.9</td>\n",
       "      <td>1.4</td>\n",
       "      <td>0.7</td>\n",
       "      <td>2.9</td>\n",
       "      <td>25.1</td>\n",
       "      <td>NaN</td>\n",
       "    </tr>\n",
       "    <tr>\n",
       "      <th>라건아</th>\n",
       "      <td>9.0</td>\n",
       "      <td>전주 KCC</td>\n",
       "      <td>17.7</td>\n",
       "      <td>7.0</td>\n",
       "      <td>12.9</td>\n",
       "      <td>54.4</td>\n",
       "      <td>2.7</td>\n",
       "      <td>3.3</td>\n",
       "      <td>81.5</td>\n",
       "      <td>5.5</td>\n",
       "      <td>...</td>\n",
       "      <td>3.9</td>\n",
       "      <td>8.3</td>\n",
       "      <td>12.2</td>\n",
       "      <td>1.9</td>\n",
       "      <td>1.6</td>\n",
       "      <td>0.4</td>\n",
       "      <td>0.8</td>\n",
       "      <td>1.5</td>\n",
       "      <td>24.9</td>\n",
       "      <td>NaN</td>\n",
       "    </tr>\n",
       "    <tr>\n",
       "      <th>디드릭 로슨</th>\n",
       "      <td>4.0</td>\n",
       "      <td>고양 캐롯</td>\n",
       "      <td>18.6</td>\n",
       "      <td>7.3</td>\n",
       "      <td>13.9</td>\n",
       "      <td>52.9</td>\n",
       "      <td>2.8</td>\n",
       "      <td>3.5</td>\n",
       "      <td>80.2</td>\n",
       "      <td>5.6</td>\n",
       "      <td>...</td>\n",
       "      <td>2.7</td>\n",
       "      <td>6.9</td>\n",
       "      <td>9.6</td>\n",
       "      <td>3.4</td>\n",
       "      <td>1.8</td>\n",
       "      <td>1.2</td>\n",
       "      <td>1.1</td>\n",
       "      <td>1.7</td>\n",
       "      <td>24.8</td>\n",
       "      <td>NaN</td>\n",
       "    </tr>\n",
       "    <tr>\n",
       "      <th>아셈 마레이</th>\n",
       "      <td>12.0</td>\n",
       "      <td>창원 LG</td>\n",
       "      <td>15.2</td>\n",
       "      <td>6.1</td>\n",
       "      <td>10.6</td>\n",
       "      <td>57.9</td>\n",
       "      <td>2.9</td>\n",
       "      <td>5.4</td>\n",
       "      <td>54.1</td>\n",
       "      <td>6.0</td>\n",
       "      <td>...</td>\n",
       "      <td>4.4</td>\n",
       "      <td>8.1</td>\n",
       "      <td>12.4</td>\n",
       "      <td>2.0</td>\n",
       "      <td>2.0</td>\n",
       "      <td>1.8</td>\n",
       "      <td>0.4</td>\n",
       "      <td>2.4</td>\n",
       "      <td>22.8</td>\n",
       "      <td>NaN</td>\n",
       "    </tr>\n",
       "    <tr>\n",
       "      <th>...</th>\n",
       "      <td>...</td>\n",
       "      <td>...</td>\n",
       "      <td>...</td>\n",
       "      <td>...</td>\n",
       "      <td>...</td>\n",
       "      <td>...</td>\n",
       "      <td>...</td>\n",
       "      <td>...</td>\n",
       "      <td>...</td>\n",
       "      <td>...</td>\n",
       "      <td>...</td>\n",
       "      <td>...</td>\n",
       "      <td>...</td>\n",
       "      <td>...</td>\n",
       "      <td>...</td>\n",
       "      <td>...</td>\n",
       "      <td>...</td>\n",
       "      <td>...</td>\n",
       "      <td>...</td>\n",
       "      <td>...</td>\n",
       "      <td>...</td>\n",
       "    </tr>\n",
       "    <tr>\n",
       "      <th>조은후</th>\n",
       "      <td>176.0</td>\n",
       "      <td>안양 KGC</td>\n",
       "      <td>0.5</td>\n",
       "      <td>0.0</td>\n",
       "      <td>1.0</td>\n",
       "      <td>0.0</td>\n",
       "      <td>0.5</td>\n",
       "      <td>1.0</td>\n",
       "      <td>50.0</td>\n",
       "      <td>0.0</td>\n",
       "      <td>...</td>\n",
       "      <td>0.0</td>\n",
       "      <td>0.0</td>\n",
       "      <td>0.0</td>\n",
       "      <td>0.0</td>\n",
       "      <td>0.0</td>\n",
       "      <td>0.5</td>\n",
       "      <td>0.0</td>\n",
       "      <td>0.5</td>\n",
       "      <td>-0.5</td>\n",
       "      <td>5.0</td>\n",
       "    </tr>\n",
       "    <tr>\n",
       "      <th>김지후</th>\n",
       "      <td>179.0</td>\n",
       "      <td>울산 현대모비스</td>\n",
       "      <td>0.0</td>\n",
       "      <td>0.0</td>\n",
       "      <td>2.0</td>\n",
       "      <td>0.0</td>\n",
       "      <td>0.0</td>\n",
       "      <td>0.0</td>\n",
       "      <td>0.0</td>\n",
       "      <td>0.0</td>\n",
       "      <td>...</td>\n",
       "      <td>1.0</td>\n",
       "      <td>0.0</td>\n",
       "      <td>1.0</td>\n",
       "      <td>0.0</td>\n",
       "      <td>0.0</td>\n",
       "      <td>0.0</td>\n",
       "      <td>0.0</td>\n",
       "      <td>0.0</td>\n",
       "      <td>-1.0</td>\n",
       "      <td>4.3</td>\n",
       "    </tr>\n",
       "    <tr>\n",
       "      <th>김무성</th>\n",
       "      <td>179.0</td>\n",
       "      <td>서울 삼성</td>\n",
       "      <td>0.0</td>\n",
       "      <td>0.0</td>\n",
       "      <td>1.0</td>\n",
       "      <td>0.0</td>\n",
       "      <td>0.0</td>\n",
       "      <td>0.0</td>\n",
       "      <td>0.0</td>\n",
       "      <td>0.0</td>\n",
       "      <td>...</td>\n",
       "      <td>0.0</td>\n",
       "      <td>0.0</td>\n",
       "      <td>0.0</td>\n",
       "      <td>0.0</td>\n",
       "      <td>0.0</td>\n",
       "      <td>0.0</td>\n",
       "      <td>0.0</td>\n",
       "      <td>1.0</td>\n",
       "      <td>-1.0</td>\n",
       "      <td>NaN</td>\n",
       "    </tr>\n",
       "    <tr>\n",
       "      <th>윤호영</th>\n",
       "      <td>179.0</td>\n",
       "      <td>원주 DB</td>\n",
       "      <td>0.0</td>\n",
       "      <td>0.0</td>\n",
       "      <td>1.8</td>\n",
       "      <td>0.0</td>\n",
       "      <td>0.0</td>\n",
       "      <td>0.0</td>\n",
       "      <td>0.0</td>\n",
       "      <td>0.0</td>\n",
       "      <td>...</td>\n",
       "      <td>0.0</td>\n",
       "      <td>0.8</td>\n",
       "      <td>0.8</td>\n",
       "      <td>0.5</td>\n",
       "      <td>1.3</td>\n",
       "      <td>0.0</td>\n",
       "      <td>0.3</td>\n",
       "      <td>2.3</td>\n",
       "      <td>-1.5</td>\n",
       "      <td>13.0</td>\n",
       "    </tr>\n",
       "    <tr>\n",
       "      <th>이승훈</th>\n",
       "      <td>179.0</td>\n",
       "      <td>창원 LG</td>\n",
       "      <td>0.0</td>\n",
       "      <td>0.0</td>\n",
       "      <td>4.0</td>\n",
       "      <td>0.0</td>\n",
       "      <td>0.0</td>\n",
       "      <td>0.0</td>\n",
       "      <td>0.0</td>\n",
       "      <td>0.0</td>\n",
       "      <td>...</td>\n",
       "      <td>0.0</td>\n",
       "      <td>2.0</td>\n",
       "      <td>2.0</td>\n",
       "      <td>1.0</td>\n",
       "      <td>2.0</td>\n",
       "      <td>1.0</td>\n",
       "      <td>0.0</td>\n",
       "      <td>2.0</td>\n",
       "      <td>-2.0</td>\n",
       "      <td>5.0</td>\n",
       "    </tr>\n",
       "  </tbody>\n",
       "</table>\n",
       "<p>197 rows × 22 columns</p>\n",
       "</div>"
      ],
      "text/plain": [
       "           순위         팀   PTS    FG   FGA   FG%   FT  FTA   FT%   PP  ...  \\\n",
       "선수명                                                                   ...   \n",
       "자밀 워니     1.0     서울 SK  23.8  10.2  19.7  51.8  2.9  4.4  65.6  9.1  ...   \n",
       "게이지 프림    3.0  울산 현대모비스  18.7   7.6  13.5  56.0  3.6  4.8  74.3  6.5  ...   \n",
       "라건아       9.0    전주 KCC  17.7   7.0  12.9  54.4  2.7  3.3  81.5  5.5  ...   \n",
       "디드릭 로슨    4.0     고양 캐롯  18.6   7.3  13.9  52.9  2.8  3.5  80.2  5.6  ...   \n",
       "아셈 마레이   12.0     창원 LG  15.2   6.1  10.6  57.9  2.9  5.4  54.1  6.0  ...   \n",
       "...       ...       ...   ...   ...   ...   ...  ...  ...   ...  ...  ...   \n",
       "조은후     176.0    안양 KGC   0.5   0.0   1.0   0.0  0.5  1.0  50.0  0.0  ...   \n",
       "김지후     179.0  울산 현대모비스   0.0   0.0   2.0   0.0  0.0  0.0   0.0  0.0  ...   \n",
       "김무성     179.0     서울 삼성   0.0   0.0   1.0   0.0  0.0  0.0   0.0  0.0  ...   \n",
       "윤호영     179.0     원주 DB   0.0   0.0   1.8   0.0  0.0  0.0   0.0  0.0  ...   \n",
       "이승훈     179.0     창원 LG   0.0   0.0   4.0   0.0  0.0  0.0   0.0  0.0  ...   \n",
       "\n",
       "        OFF  DEF   TOT  AST   TO  STL   BS   PF   EFF  SALARY  \n",
       "선수명                                                            \n",
       "자밀 워니   3.0  8.2  11.2  3.1  1.9  1.2  1.0  1.6  27.4     NaN  \n",
       "게이지 프림  4.0  6.9  11.0  2.3  1.9  1.4  0.7  2.9  25.1     NaN  \n",
       "라건아     3.9  8.3  12.2  1.9  1.6  0.4  0.8  1.5  24.9     NaN  \n",
       "디드릭 로슨  2.7  6.9   9.6  3.4  1.8  1.2  1.1  1.7  24.8     NaN  \n",
       "아셈 마레이  4.4  8.1  12.4  2.0  2.0  1.8  0.4  2.4  22.8     NaN  \n",
       "...     ...  ...   ...  ...  ...  ...  ...  ...   ...     ...  \n",
       "조은후     0.0  0.0   0.0  0.0  0.0  0.5  0.0  0.5  -0.5     5.0  \n",
       "김지후     1.0  0.0   1.0  0.0  0.0  0.0  0.0  0.0  -1.0     4.3  \n",
       "김무성     0.0  0.0   0.0  0.0  0.0  0.0  0.0  1.0  -1.0     NaN  \n",
       "윤호영     0.0  0.8   0.8  0.5  1.3  0.0  0.3  2.3  -1.5    13.0  \n",
       "이승훈     0.0  2.0   2.0  1.0  2.0  1.0  0.0  2.0  -2.0     5.0  \n",
       "\n",
       "[197 rows x 22 columns]"
      ]
     },
     "execution_count": 5,
     "metadata": {},
     "output_type": "execute_result"
    }
   ],
   "source": [
    "df"
   ]
  },
  {
   "cell_type": "code",
   "execution_count": 6,
   "id": "31340710",
   "metadata": {},
   "outputs": [],
   "source": [
    "df_EFF=df['EFF']\n",
    "df_EFF.to_excel('EFF.xlsx')"
   ]
  },
  {
   "cell_type": "code",
   "execution_count": null,
   "id": "963faebd",
   "metadata": {},
   "outputs": [],
   "source": []
  },
  {
   "cell_type": "code",
   "execution_count": 7,
   "id": "7545e733",
   "metadata": {},
   "outputs": [
    {
     "data": {
      "text/plain": [
       "14.200000000000001"
      ]
     },
     "execution_count": 7,
     "metadata": {},
     "output_type": "execute_result"
    }
   ],
   "source": [
    "df.loc['이선 알바노'].EFF"
   ]
  },
  {
   "cell_type": "code",
   "execution_count": 8,
   "id": "92603692",
   "metadata": {},
   "outputs": [
    {
     "data": {
      "text/plain": [
       "12.700000000000001"
      ]
     },
     "execution_count": 8,
     "metadata": {},
     "output_type": "execute_result"
    }
   ],
   "source": [
    "df.loc['론제이 아바리엔토스'].EFF"
   ]
  },
  {
   "cell_type": "code",
   "execution_count": 9,
   "id": "9dedd497",
   "metadata": {},
   "outputs": [
    {
     "data": {
      "text/plain": [
       "8.600000000000001"
      ]
     },
     "execution_count": 9,
     "metadata": {},
     "output_type": "execute_result"
    }
   ],
   "source": [
    "df.loc['렌즈 아반도'].EFF"
   ]
  },
  {
   "cell_type": "code",
   "execution_count": 10,
   "id": "4d1efa10",
   "metadata": {},
   "outputs": [
    {
     "data": {
      "text/plain": [
       "7.099999999999998"
      ]
     },
     "execution_count": 10,
     "metadata": {},
     "output_type": "execute_result"
    }
   ],
   "source": [
    "df.loc['저스틴 구탕'].EFF"
   ]
  },
  {
   "cell_type": "code",
   "execution_count": 11,
   "id": "353e81ea",
   "metadata": {
    "scrolled": true
   },
   "outputs": [
    {
     "data": {
      "text/plain": [
       "6.700000000000002"
      ]
     },
     "execution_count": 11,
     "metadata": {},
     "output_type": "execute_result"
    }
   ],
   "source": [
    "df.loc['샘조세프 벨란겔'].EFF"
   ]
  },
  {
   "cell_type": "code",
   "execution_count": 12,
   "id": "f634393c",
   "metadata": {},
   "outputs": [
    {
     "data": {
      "text/plain": [
       "6.099999999999999"
      ]
     },
     "execution_count": 12,
     "metadata": {},
     "output_type": "execute_result"
    }
   ],
   "source": [
    "df.loc['데이브 일데폰소'].EFF"
   ]
  },
  {
   "cell_type": "code",
   "execution_count": 13,
   "id": "8573958b",
   "metadata": {
    "scrolled": false
   },
   "outputs": [
    {
     "data": {
      "text/plain": [
       "1.8999999999999995"
      ]
     },
     "execution_count": 13,
     "metadata": {},
     "output_type": "execute_result"
    }
   ],
   "source": [
    "df.loc['칼빈 제프리 에피스톨라'].EFF"
   ]
  },
  {
   "cell_type": "code",
   "execution_count": 56,
   "id": "5b50d7dc",
   "metadata": {},
   "outputs": [
    {
     "data": {
      "text/plain": [
       "20.0"
      ]
     },
     "execution_count": 56,
     "metadata": {},
     "output_type": "execute_result"
    }
   ],
   "source": [
    "Philiphine=[(df.loc['이선 알바노'].EFF),(df.loc['론제이 아바리엔토스'].EFF),(df.loc['렌즈 아반도'].EFF),(df.loc['저스틴 구탕'].EFF),\n",
    "           (df.loc['샘조세프 벨란겔'].EFF),(df.loc['데이브 일데폰소'].EFF),(df.loc['칼빈 제프리 에피스톨라'].EFF)]\n",
    "(Philiphine,np.mean(Philiphine))\n",
    "\n"
   ]
  },
  {
   "cell_type": "code",
   "execution_count": 15,
   "id": "829d83c6",
   "metadata": {},
   "outputs": [
    {
     "data": {
      "text/plain": [
       "(8.185714285714285, 5.6)"
      ]
     },
     "execution_count": 15,
     "metadata": {},
     "output_type": "execute_result"
    }
   ],
   "source": [
    "Korea=[(df.loc['정성우'].EFF),(df.loc['정창영'].EFF),(df.loc['김지완'].EFF),\n",
    "       (df.loc['김현호'].EFF),(df.loc['전준범'].EFF),(df.loc['이우석'].EFF),\n",
    "       (df.loc['박찬희'].EFF),(df.loc['서명진'].EFF),(df.loc['김강선'].EFF),\n",
    "       (df.loc['이원대'].EFF),(df.loc['박지원'].EFF),(df.loc['최원혁'].EFF),\n",
    "       (df.loc['정희재'].EFF),(df.loc['최진수'].EFF),(df.loc['양희종'].EFF),\n",
    "       (df.loc['변준형'].EFF),(df.loc['차바위'].EFF),(df.loc['한호빈'].EFF),\n",
    "        (df.loc['김동준'].EFF),(df.loc['박경상'].EFF),(df.loc['김지후'].EFF)\n",
    "      ]\n",
    "(np.mean(Philiphine),np.mean(Korea))"
   ]
  },
  {
   "cell_type": "code",
   "execution_count": 16,
   "id": "c24e1437",
   "metadata": {},
   "outputs": [
    {
     "data": {
      "text/plain": [
       "(14.200000000000001, 8.0)"
      ]
     },
     "execution_count": 16,
     "metadata": {},
     "output_type": "execute_result"
    }
   ],
   "source": [
    "a=[(df.loc['정성우'].EFF),(df.loc['정창영'].EFF),(df.loc['김지완'].EFF)]\n",
    "(df.loc['이선 알바노'].EFF,np.mean(a))"
   ]
  },
  {
   "cell_type": "code",
   "execution_count": 17,
   "id": "51d131a4",
   "metadata": {},
   "outputs": [
    {
     "data": {
      "text/plain": [
       "(12.700000000000001, 7.266666666666668)"
      ]
     },
     "execution_count": 17,
     "metadata": {},
     "output_type": "execute_result"
    }
   ],
   "source": [
    "b=[(df.loc['김현호'].EFF),(df.loc['전준범'].EFF),(df.loc['이우석'].EFF)]\n",
    "(df.loc['론제이 아바리엔토스'].EFF,np.mean(b))"
   ]
  },
  {
   "cell_type": "code",
   "execution_count": 18,
   "id": "95d0b3eb",
   "metadata": {},
   "outputs": [
    {
     "data": {
      "text/plain": [
       "(8.600000000000001, 5.8666666666666645)"
      ]
     },
     "execution_count": 18,
     "metadata": {},
     "output_type": "execute_result"
    }
   ],
   "source": [
    "c=[(df.loc['박찬희'].EFF),(df.loc['서명진'].EFF),(df.loc['김강선'].EFF)]\n",
    "(df.loc['렌즈 아반도'].EFF,np.mean(c))"
   ]
  },
  {
   "cell_type": "code",
   "execution_count": 19,
   "id": "39ee5206",
   "metadata": {},
   "outputs": [
    {
     "data": {
      "text/plain": [
       "(6.700000000000002, 2.566666666666667)"
      ]
     },
     "execution_count": 19,
     "metadata": {},
     "output_type": "execute_result"
    }
   ],
   "source": [
    "d=[(df.loc['이원대'].EFF),(df.loc['박지원'].EFF),(df.loc['최원혁'].EFF)]\n",
    "(df.loc['샘조세프 벨란겔'].EFF,np.mean(d))"
   ]
  },
  {
   "cell_type": "code",
   "execution_count": 20,
   "id": "a61b2779",
   "metadata": {},
   "outputs": [
    {
     "data": {
      "text/plain": [
       "(7.099999999999998, 4.933333333333333)"
      ]
     },
     "execution_count": 20,
     "metadata": {},
     "output_type": "execute_result"
    }
   ],
   "source": [
    "e=[(df.loc['정희재'].EFF),(df.loc['최진수'].EFF),(df.loc['양희종'].EFF)]\n",
    "(df.loc['저스틴 구탕'].EFF,np.mean(e))"
   ]
  },
  {
   "cell_type": "code",
   "execution_count": 21,
   "id": "59221616",
   "metadata": {},
   "outputs": [
    {
     "data": {
      "text/plain": [
       "(6.099999999999999, 9.0)"
      ]
     },
     "execution_count": 21,
     "metadata": {},
     "output_type": "execute_result"
    }
   ],
   "source": [
    "f=[(df.loc['변준형'].EFF),(df.loc['차바위'].EFF),(df.loc['한호빈'].EFF)]\n",
    "(df.loc['데이브 일데폰소'].EFF,np.mean(f))"
   ]
  },
  {
   "cell_type": "code",
   "execution_count": 22,
   "id": "327601fd",
   "metadata": {
    "scrolled": true
   },
   "outputs": [
    {
     "data": {
      "text/plain": [
       "(1.8999999999999995, 1.5666666666666664)"
      ]
     },
     "execution_count": 22,
     "metadata": {},
     "output_type": "execute_result"
    }
   ],
   "source": [
    "g=[(df.loc['김동준'].EFF),(df.loc['박경상'].EFF),(df.loc['김지후'].EFF)]\n",
    "(df.loc['칼빈 제프리 에피스톨라'].EFF,np.mean(g))"
   ]
  },
  {
   "cell_type": "code",
   "execution_count": 25,
   "id": "5dac36d4",
   "metadata": {},
   "outputs": [
    {
     "data": {
      "text/plain": [
       "[8.0,\n",
       " 7.266666666666668,\n",
       " 5.8666666666666645,\n",
       " 2.566666666666667,\n",
       " 4.933333333333333,\n",
       " 9.0,\n",
       " 1.5666666666666664]"
      ]
     },
     "execution_count": 25,
     "metadata": {},
     "output_type": "execute_result"
    }
   ],
   "source": [
    "Compare=[np.mean(a),np.mean(b),np.mean(c),np.mean(d),np.mean(e),np.mean(f),np.mean(g)]\n",
    "Compare\n"
   ]
  },
  {
   "cell_type": "code",
   "execution_count": 91,
   "id": "608a7ad0",
   "metadata": {
    "scrolled": true
   },
   "outputs": [
    {
     "data": {
      "image/png": "[encoded data removed]",
      "text/plain": [
       "<Figure size 600x400 with 1 Axes>"
      ]
     },
     "metadata": {},
     "output_type": "display_data"
    }
   ],
   "source": [
    "plt.rcParams['font.family'] = 'Malgun Gothic'\n",
    "plt.figure(figsize=(6,4))\n",
    "Philiphine_name=['이선 알바노','론제이 아바리엔토스','렌즈 아반도','저스틴 구탕',\n",
    "                 '샘조세프 벨란겔','데이브 일데폰소','칼빈 제프리 에피스톨라']\n",
    "plt.plot(Philiphine_name,Philiphine,'ro',label='EFF_P')\n",
    "plt.scatter(Philiphine_name,Compare,label='EFF_K')\n",
    "plt.title('필리핀 선수 VS 한국 선수들')\n",
    "plt.xticks(rotation=35)\n",
    "plt.ylabel('EFF')\n",
    "plt.legend()\n",
    "for i, v in enumerate(Philiphine_name):\n",
    "    plt.text(v, Philiphine[i]+0.2, round(Philiphine[i],1),                 \n",
    "                 fontsize = 9, color='black',\n",
    "                 horizontalalignment='center', \n",
    "                 verticalalignment='bottom')  \n",
    "for i, v in enumerate(Philiphine_name):\n",
    "    plt.text(v, Compare[i]+0.2, round(Compare[i],1),                 \n",
    "                 fontsize = 9, color='black',\n",
    "                 horizontalalignment='center', \n",
    "                 verticalalignment='bottom') \n",
    "plt.rc('xtick',labelsize=8)\n",
    "plt.savefig('필리핀 선수 EFF 수치.png',dpi=100)"
   ]
  },
  {
   "cell_type": "code",
   "execution_count": 70,
   "id": "8891b6ce",
   "metadata": {
    "scrolled": true
   },
   "outputs": [
    {
     "data": {
      "text/plain": [
       "<matplotlib.legend.Legend at 0x29c957e5a00>"
      ]
     },
     "execution_count": 70,
     "metadata": {},
     "output_type": "execute_result"
    },
    {
     "data": {
      "image/png": "[encoded data removed]",
      "text/plain": [
       "<Figure size 640x480 with 1 Axes>"
      ]
     },
     "metadata": {},
     "output_type": "display_data"
    }
   ],
   "source": [
    "Korea_name=['정성우','정창영','김지완','김현호','전준범','이우석','박찬희','서명진','김강선','이원대','박지원','최원혁','정희재','최진수','양희종','변준형','차바위','한호빈','김동준','박경상','김지후']\n",
    "plt.scatter(Korea_name,Korea,label='EFF')\n",
    "plt.legend()\n"
   ]
  },
  {
   "cell_type": "code",
   "execution_count": 74,
   "id": "6c4ca968",
   "metadata": {
    "scrolled": true
   },
   "outputs": [
    {
     "data": {
      "image/png": "[encoded data removed]",
      "text/plain": [
       "<Figure size 640x480 with 1 Axes>"
      ]
     },
     "metadata": {},
     "output_type": "display_data"
    }
   ],
   "source": []
  },
  {
   "cell_type": "code",
   "execution_count": 87,
   "id": "b7b4b32c",
   "metadata": {
    "scrolled": true
   },
   "outputs": [
    {
     "data": {
      "text/plain": [
       "[<matplotlib.lines.Line2D at 0x2ba9a01afd0>]"
      ]
     },
     "execution_count": 87,
     "metadata": {},
     "output_type": "execute_result"
    },
    {
     "data": {
      "image/png": "[encoded data removed]",
      "text/plain": [
       "<Figure size 640x480 with 1 Axes>"
      ]
     },
     "metadata": {},
     "output_type": "display_data"
    }
   ],
   "source": [
    "\n"
   ]
  },
  {
   "cell_type": "code",
   "execution_count": 79,
   "id": "5988233f",
   "metadata": {},
   "outputs": [
    {
     "data": {
      "text/plain": [
       "[3.5, 13.2, 19.3, 20.0, 20.4, 21.3, 23.7]"
      ]
     },
     "execution_count": 79,
     "metadata": {},
     "output_type": "execute_result"
    }
   ],
   "source": [
    "P_S=[(df.loc['이선 알바노'].SALARY),(df.loc['론제이 아바리엔토스'].SALARY),(df.loc['렌즈 아반도'].SALARY),(df.loc['저스틴 구탕'].SALARY),\n",
    "           (df.loc['샘조세프 벨란겔'].SALARY),(df.loc['데이브 일데폰소'].SALARY),(df.loc['칼빈 제프리 에피스톨라'].SALARY)]\n",
    "P_S.sort()\n",
    "P_S"
   ]
  },
  {
   "cell_type": "code",
   "execution_count": 110,
   "id": "91502fb8",
   "metadata": {},
   "outputs": [
    {
     "data": {
      "image/png": "[encoded data removed]",
      "text/plain": [
       "<Figure size 640x480 with 1 Axes>"
      ]
     },
     "metadata": {},
     "output_type": "display_data"
    }
   ],
   "source": [
    "p=list(df.sort_values(by='SALARY').SALARY)\n",
    "q=list(df.sort_values(by='SALARY').EFF)\n",
    "plt.scatter(p,q,label='EFF_K')\n",
    "plt.scatter(P_S,P_V,label='EFF_P')\n",
    "filt_line=np.polyfit(P_S,P_V,1)\n",
    "x_minmax=np.array([min(P_S),max(P_S)])\n",
    "filt_y=x_minmax*filt_line[0]+filt_line[1]\n",
    "plt.plot(x_minmax,filt_y,color='orange',lw='3')\n",
    "plt.xlabel('연봉')\n",
    "plt.ylabel('EFF')\n",
    "plt.legend()\n",
    "plt.rcParams['axes.unicode_minus']=False\n"
   ]
  },
  {
   "cell_type": "code",
   "execution_count": 74,
   "id": "e4493381",
   "metadata": {},
   "outputs": [
    {
     "data": {
      "text/plain": [
       "[1.8999999999999995,\n",
       " 6.700000000000002,\n",
       " 12.700000000000001,\n",
       " 14.200000000000001,\n",
       " 6.099999999999999,\n",
       " 7.099999999999998,\n",
       " 8.600000000000001]"
      ]
     },
     "execution_count": 74,
     "metadata": {},
     "output_type": "execute_result"
    }
   ],
   "source": [
    "P_V=[(df.loc['칼빈 제프리 에피스톨라'].EFF),(df.loc['샘조세프 벨란겔'].EFF),\n",
    "     (df.loc['론제이 아바리엔토스'].EFF),(df.loc['이선 알바노'].EFF),(df.loc['데이브 일데폰소'].EFF),\n",
    "     (df.loc['저스틴 구탕'].EFF),(df.loc['렌즈 아반도'].EFF)]\n",
    "P_V"
   ]
  },
  {
   "cell_type": "code",
   "execution_count": 58,
   "id": "ab86dc2d",
   "metadata": {},
   "outputs": [
    {
     "data": {
      "text/plain": [
       "[2.3302,\n",
       " 2.3375,\n",
       " 2.4993,\n",
       " 3.5,\n",
       " 3.5,\n",
       " 3.5,\n",
       " 3.5,\n",
       " 3.5,\n",
       " 3.5,\n",
       " 3.5,\n",
       " 3.5,\n",
       " 3.7,\n",
       " 3.8958,\n",
       " 4.0,\n",
       " 4.0,\n",
       " 4.0,\n",
       " 4.0,\n",
       " 4.0,\n",
       " 4.0,\n",
       " 4.1566,\n",
       " 4.3,\n",
       " 4.5,\n",
       " 4.5,\n",
       " 4.5,\n",
       " 4.5,\n",
       " 4.5,\n",
       " 4.5,\n",
       " 4.5,\n",
       " 4.5,\n",
       " 4.6,\n",
       " 5.0,\n",
       " 5.0,\n",
       " 5.0,\n",
       " 5.0,\n",
       " 5.0,\n",
       " 5.0,\n",
       " 5.0,\n",
       " 5.0,\n",
       " 5.0,\n",
       " 5.0,\n",
       " 5.0,\n",
       " 5.2,\n",
       " 5.2,\n",
       " 5.2,\n",
       " 5.3,\n",
       " 5.5,\n",
       " 6.0,\n",
       " 6.0,\n",
       " 6.0,\n",
       " 6.0,\n",
       " 6.0,\n",
       " 6.0,\n",
       " 6.0,\n",
       " 6.2,\n",
       " 6.3,\n",
       " 6.3,\n",
       " 6.5,\n",
       " 6.5,\n",
       " 6.5,\n",
       " 6.5,\n",
       " 6.5,\n",
       " 7.0,\n",
       " 7.0,\n",
       " 7.0,\n",
       " 7.0,\n",
       " 7.0,\n",
       " 7.0,\n",
       " 7.0,\n",
       " 7.0,\n",
       " 7.0,\n",
       " 7.0,\n",
       " 7.0,\n",
       " 7.0,\n",
       " 7.0,\n",
       " 7.0,\n",
       " 7.0,\n",
       " 7.1,\n",
       " 7.2,\n",
       " 7.5,\n",
       " 8.0,\n",
       " 8.0,\n",
       " 8.0,\n",
       " 8.0,\n",
       " 8.0,\n",
       " 8.0,\n",
       " 8.5,\n",
       " 8.7,\n",
       " 9.0,\n",
       " 9.0,\n",
       " 9.5,\n",
       " 10.0,\n",
       " 10.0,\n",
       " 10.0,\n",
       " 10.0,\n",
       " 10.5,\n",
       " 11.0,\n",
       " 11.0,\n",
       " 11.0,\n",
       " 12.0,\n",
       " 12.0,\n",
       " 12.0,\n",
       " 12.0,\n",
       " 12.0,\n",
       " 13.0,\n",
       " 13.0,\n",
       " 13.0,\n",
       " 13.2,\n",
       " 13.5,\n",
       " 14.0,\n",
       " 15.0,\n",
       " 15.0,\n",
       " 15.0,\n",
       " 15.0,\n",
       " 16.0,\n",
       " 16.5,\n",
       " 17.0,\n",
       " 18.0,\n",
       " 18.0,\n",
       " 18.0,\n",
       " 19.3,\n",
       " 20.0,\n",
       " 20.0,\n",
       " 20.0,\n",
       " 20.4,\n",
       " 21.0,\n",
       " 21.0,\n",
       " 21.0,\n",
       " 21.3,\n",
       " 21.5,\n",
       " 22.0,\n",
       " 22.0,\n",
       " 22.5,\n",
       " 23.7,\n",
       " 25.0,\n",
       " 25.0,\n",
       " 25.0,\n",
       " 27.5,\n",
       " 28.0,\n",
       " 28.0,\n",
       " 29.0,\n",
       " 30.0,\n",
       " 30.0,\n",
       " 31.0,\n",
       " 38.0,\n",
       " 47.0,\n",
       " 50.0,\n",
       " 50.0,\n",
       " 50.0,\n",
       " 50.0,\n",
       " 50.0,\n",
       " 52.0,\n",
       " 55.0,\n",
       " 55.0,\n",
       " 55.0,\n",
       " 60.0,\n",
       " 60.0,\n",
       " 70.0,\n",
       " 75.0,\n",
       " 75.0,\n",
       " 75.0,\n",
       " 80.0,\n",
       " nan,\n",
       " nan,\n",
       " nan,\n",
       " nan,\n",
       " nan,\n",
       " nan,\n",
       " nan,\n",
       " nan,\n",
       " nan,\n",
       " nan,\n",
       " nan,\n",
       " nan,\n",
       " nan,\n",
       " nan,\n",
       " nan,\n",
       " nan,\n",
       " nan,\n",
       " nan,\n",
       " nan,\n",
       " nan,\n",
       " nan,\n",
       " nan,\n",
       " nan,\n",
       " nan,\n",
       " nan,\n",
       " nan,\n",
       " nan,\n",
       " nan,\n",
       " nan,\n",
       " nan,\n",
       " nan,\n",
       " nan,\n",
       " nan,\n",
       " nan,\n",
       " nan,\n",
       " nan]"
      ]
     },
     "execution_count": 58,
     "metadata": {},
     "output_type": "execute_result"
    }
   ],
   "source": []
  }
 ],
 "metadata": {
  "kernelspec": {
   "display_name": "Python 3 (ipykernel)",
   "language": "python",
   "name": "python3"
  },
  "language_info": {
   "codemirror_mode": {
    "name": "ipython",
    "version": 3
   },
   "file_extension": ".py",
   "mimetype": "text/x-python",
   "name": "python",
   "nbconvert_exporter": "python",
   "pygments_lexer": "ipython3",
   "version": "3.9.13"
  }
 },
 "nbformat": 4,
 "nbformat_minor": 5
}
