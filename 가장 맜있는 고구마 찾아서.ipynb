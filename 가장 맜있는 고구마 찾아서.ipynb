{
 "cells": [
  {
   "cell_type": "code",
   "execution_count": 1,
   "id": "cc5f804e",
   "metadata": {},
   "outputs": [
    {
     "name": "stdout",
     "output_type": "stream",
     "text": [
      "Requirement already satisfied: selenium in c:\\users\\pc\\anaconda3\\lib\\site-packages (4.8.2)\n",
      "Requirement already satisfied: trio-websocket~=0.9 in c:\\users\\pc\\anaconda3\\lib\\site-packages (from selenium) (0.10.0)\n",
      "Requirement already satisfied: urllib3[socks]~=1.26 in c:\\users\\pc\\anaconda3\\lib\\site-packages (from selenium) (1.26.11)\n",
      "Requirement already satisfied: trio~=0.17 in c:\\users\\pc\\anaconda3\\lib\\site-packages (from selenium) (0.22.0)\n",
      "Requirement already satisfied: certifi>=2021.10.8 in c:\\users\\pc\\anaconda3\\lib\\site-packages (from selenium) (2022.9.14)\n",
      "Requirement already satisfied: outcome in c:\\users\\pc\\anaconda3\\lib\\site-packages (from trio~=0.17->selenium) (1.2.0)\n",
      "Requirement already satisfied: sniffio in c:\\users\\pc\\anaconda3\\lib\\site-packages (from trio~=0.17->selenium) (1.2.0)\n",
      "Requirement already satisfied: idna in c:\\users\\pc\\anaconda3\\lib\\site-packages (from trio~=0.17->selenium) (3.3)\n",
      "Requirement already satisfied: sortedcontainers in c:\\users\\pc\\anaconda3\\lib\\site-packages (from trio~=0.17->selenium) (2.4.0)\n",
      "Requirement already satisfied: cffi>=1.14 in c:\\users\\pc\\anaconda3\\lib\\site-packages (from trio~=0.17->selenium) (1.15.1)\n",
      "Requirement already satisfied: async-generator>=1.9 in c:\\users\\pc\\anaconda3\\lib\\site-packages (from trio~=0.17->selenium) (1.10)\n",
      "Requirement already satisfied: exceptiongroup>=1.0.0rc9 in c:\\users\\pc\\anaconda3\\lib\\site-packages (from trio~=0.17->selenium) (1.1.1)\n",
      "Requirement already satisfied: attrs>=19.2.0 in c:\\users\\pc\\anaconda3\\lib\\site-packages (from trio~=0.17->selenium) (21.4.0)\n",
      "Requirement already satisfied: wsproto>=0.14 in c:\\users\\pc\\anaconda3\\lib\\site-packages (from trio-websocket~=0.9->selenium) (1.2.0)\n",
      "Requirement already satisfied: PySocks!=1.5.7,<2.0,>=1.5.6 in c:\\users\\pc\\anaconda3\\lib\\site-packages (from urllib3[socks]~=1.26->selenium) (1.7.1)\n",
      "Requirement already satisfied: pycparser in c:\\users\\pc\\anaconda3\\lib\\site-packages (from cffi>=1.14->trio~=0.17->selenium) (2.21)\n",
      "Requirement already satisfied: h11<1,>=0.9.0 in c:\\users\\pc\\anaconda3\\lib\\site-packages (from wsproto>=0.14->trio-websocket~=0.9->selenium) (0.14.0)\n",
      "Note: you may need to restart the kernel to use updated packages.\n"
     ]
    }
   ],
   "source": [
    "pip install selenium"
   ]
  },
  {
   "cell_type": "code",
   "execution_count": 2,
   "id": "fc7d7d83",
   "metadata": {
    "scrolled": true
   },
   "outputs": [
    {
     "name": "stdout",
     "output_type": "stream",
     "text": [
      "Requirement already satisfied: chromedriver-autoinstaller in c:\\users\\pc\\anaconda3\\lib\\site-packages (0.4.0)Note: you may need to restart the kernel to use updated packages.\n",
      "\n"
     ]
    }
   ],
   "source": [
    "pip install chromedriver-autoinstaller"
   ]
  },
  {
   "cell_type": "code",
   "execution_count": 1,
   "id": "953125c7",
   "metadata": {},
   "outputs": [
    {
     "name": "stdout",
     "output_type": "stream",
     "text": [
      "111\n"
     ]
    }
   ],
   "source": [
    "from selenium import webdriver\n",
    "import chromedriver_autoinstaller\n",
    "import time \n",
    "import pandas as pd\n",
    "from selenium.webdriver.common.keys import Keys \n",
    "from selenium.webdriver.common.by import By\n",
    "\n",
    "chrome_ver=chromedriver_autoinstaller.get_chrome_version().split('.')[0]\n",
    "print(chrome_ver)"
   ]
  },
  {
   "cell_type": "code",
   "execution_count": 71,
   "id": "4e1879ae",
   "metadata": {},
   "outputs": [
    {
     "name": "stderr",
     "output_type": "stream",
     "text": [
      "C:\\Users\\pc\\AppData\\Local\\Temp\\ipykernel_2740\\693945708.py:2: DeprecationWarning: executable_path has been deprecated, please pass in a Service object\n",
      "  crawler=webdriver.Chrome(f'./{chrome_ver}/chromedriver.exe')\n"
     ]
    }
   ],
   "source": [
    "try:\n",
    "    crawler=webdriver.Chrome(f'./{chrome_ver}/chromedriver.exe')\n",
    "except:\n",
    "    chromedriver_autoinstaller.install(True)\n",
    "    crawler=webdriver.Chrome(f'./{chrome_ver}/chromedriver.exe')\n",
    "crawler.implicitly_wait(10)\n",
    "crawler.get('https://www.naver.com/')\n",
    "    "
   ]
  },
  {
   "cell_type": "code",
   "execution_count": 72,
   "id": "4b6cd6dd",
   "metadata": {},
   "outputs": [],
   "source": [
    "# 네이버에서 식품 눌러주기 \n",
    "crawler.find_element('xpath','//*[@id=\"NM_FAVORITE\"]/div[1]/ul[1]/li[5]/a').click()\n",
    "#식품 누르기\n",
    "crawler.find_element('xpath','//*[@id=\"content\"]/div/div[1]/div/div[1]/div/div/div[1]/ul/li[5]/button').click()\n",
    "#봄 제철\n",
    "crawler.find_element('xpath','//*[@id=\"content\"]/div/div[1]/div/div[1]/div/div/div[2]/div[1]/ul/li[1]/a').click()\n",
    "#검색창 클릭\n",
    "engine=crawler.find_element('xpath','//*[@id=\"wrap\"]/div[1]/div[2]/div/div[2]/div/div[2]/form/div[1]/div[1]/input')\n",
    "engine.click()\n",
    "engine.send_keys('고구마') #검색엔진에 입력하고 싶은 키워드 쓰기 \n",
    "engine.send_keys(Keys.ENTER) #검색엔진의 엔터를 눌러줘서 검색을 가능하게 해준다 \n",
    "#리뷰 많은 순으로 출력해주기 \n",
    "crawler.find_element('xpath','//*[@id=\"content\"]/div[1]/div[1]/div/div[1]/a[4]').click()\n"
   ]
  },
  {
   "cell_type": "code",
   "execution_count": 73,
   "id": "854abd4b",
   "metadata": {},
   "outputs": [
    {
     "name": "stdout",
     "output_type": "stream",
     "text": [
      "2519\n",
      "9922\n",
      "3084\n",
      "9953\n",
      "3010\n",
      "9779\n",
      "2976\n",
      "9811\n",
      "3026\n",
      "9711\n",
      "3103\n",
      "9798\n",
      "2961\n",
      "9661\n",
      "2979\n",
      "9796\n",
      "2997\n",
      "9833\n"
     ]
    }
   ],
   "source": [
    "names=[]\n",
    "prices=[]\n",
    "review_cnts=[]\n",
    "links=[]\n",
    "\n",
    "for i in range(1,10):\n",
    "    crawler.get('https://search.shopping.naver.com/search/all?origQuery=%EA%B3%A0%EA%B5%AC%EB%A7%88&pagingIndex='+str(i)+'&pagingSize=40&productSet=total&query=%EA%B3%A0%EA%B5%AC%EB%A7%88&sort=review&timestamp=&viewType=list')\n",
    "    \n",
    "    while True:\n",
    "        bh= crawler.execute_script(\"return document.body.scrollHeight\") # 브라우저 상의 처음 높이 \n",
    "        print(bh)\n",
    "        time.sleep(4)\n",
    "        crawler.execute_script(\"window.scrollTo(0,document.body.scrollHeight)\") # 스크롤 내리기\n",
    "        time.sleep(2)\n",
    "        ah=crawler.execute_script(\"return document.body.scrollHeight\") # 브라우저 상의 처음 높이 \n",
    "        if ah==bh:\n",
    "            break\n",
    "        bh=ah \n",
    "    infos = crawler.find_elements(By.CSS_SELECTOR,\".basicList_info_area__TWvzp\")\n",
    "    for info in infos:\n",
    "        try:\n",
    "            name = info.find_element(By.CSS_SELECTOR,\".basicList_title__VfX3c\").text\n",
    "            names.append(name)\n",
    "            price= info.find_element(By.CSS_SELECTOR,\".price_num__S2p_v\").text\n",
    "            prices.append(price)\n",
    "            review_cnt=info.find_element(By.CSS_SELECTOR,\".basicList_num__sfz3h\").text\n",
    "            review_cnts.append(review_cnt)\n",
    "            link=info.find_element(By.CSS_SELECTOR,\"a.basicList_link__JLQJf\").get_attribute(\"href\")\n",
    "            links.append(link)\n",
    "        except:\n",
    "            print('Exception')\n",
    "crawler.close()"
   ]
  },
  {
   "cell_type": "code",
   "execution_count": 86,
   "id": "289e708b",
   "metadata": {},
   "outputs": [
    {
     "data": {
      "text/html": [
       "<div>\n",
       "<style scoped>\n",
       "    .dataframe tbody tr th:only-of-type {\n",
       "        vertical-align: middle;\n",
       "    }\n",
       "\n",
       "    .dataframe tbody tr th {\n",
       "        vertical-align: top;\n",
       "    }\n",
       "\n",
       "    .dataframe thead th {\n",
       "        text-align: right;\n",
       "    }\n",
       "</style>\n",
       "<table border=\"1\" class=\"dataframe\">\n",
       "  <thead>\n",
       "    <tr style=\"text-align: right;\">\n",
       "      <th></th>\n",
       "      <th>name</th>\n",
       "      <th>price</th>\n",
       "      <th>review_cnt</th>\n",
       "      <th>link</th>\n",
       "    </tr>\n",
       "  </thead>\n",
       "  <tbody>\n",
       "    <tr>\n",
       "      <th>0</th>\n",
       "      <td>해남 꿀 호박 고구마 베니하루카 3kg 5kg</td>\n",
       "      <td>7,900원</td>\n",
       "      <td>308,952</td>\n",
       "      <td>https://cr.shopping.naver.com/adcr.nhn?x=39G1O...</td>\n",
       "    </tr>\n",
       "    <tr>\n",
       "      <th>1</th>\n",
       "      <td>해남 꿀 고구마 3kg 5kg 베니하루카 황금호박고구마</td>\n",
       "      <td>5,900원</td>\n",
       "      <td>262,121</td>\n",
       "      <td>https://cr.shopping.naver.com/adcr.nhn?x=r9Qsu...</td>\n",
       "    </tr>\n",
       "    <tr>\n",
       "      <th>2</th>\n",
       "      <td>무농약 꿀 고구마 3kg 5kg 세척 영암 황금호박 베니하루카</td>\n",
       "      <td>23,900원</td>\n",
       "      <td>158,273</td>\n",
       "      <td>https://cr.shopping.naver.com/adcr.nhn?x=iubzK...</td>\n",
       "    </tr>\n",
       "    <tr>\n",
       "      <th>3</th>\n",
       "      <td>무농약 꿀 고구마 3kg 5kg 세척 영암 황금호박 베니하루카</td>\n",
       "      <td>23,900원</td>\n",
       "      <td>158,273</td>\n",
       "      <td>https://cr.shopping.naver.com/adcr.nhn?x=ZoNe1...</td>\n",
       "    </tr>\n",
       "    <tr>\n",
       "      <th>4</th>\n",
       "      <td>김의준 세척 꿀고구마</td>\n",
       "      <td>13,900원</td>\n",
       "      <td>151,575</td>\n",
       "      <td>https://cr.shopping.naver.com/adcr.nhn?x=sQtP9...</td>\n",
       "    </tr>\n",
       "    <tr>\n",
       "      <th>...</th>\n",
       "      <td>...</td>\n",
       "      <td>...</td>\n",
       "      <td>...</td>\n",
       "      <td>...</td>\n",
       "    </tr>\n",
       "    <tr>\n",
       "      <th>355</th>\n",
       "      <td>싱싱한 꿀고구마 한입 2kg 꿀밤</td>\n",
       "      <td>5,900원</td>\n",
       "      <td>1,433</td>\n",
       "      <td>https://cr.shopping.naver.com/adcr.nhn?x=ZmnFs...</td>\n",
       "    </tr>\n",
       "    <tr>\n",
       "      <th>356</th>\n",
       "      <td>해남 꿀고구마 베니하루카 3kg/5kg (세척/비세척 택)</td>\n",
       "      <td>8,900원</td>\n",
       "      <td>1,426</td>\n",
       "      <td>https://cr.shopping.naver.com/adcr.nhn?x=AZUwY...</td>\n",
       "    </tr>\n",
       "    <tr>\n",
       "      <th>357</th>\n",
       "      <td>[푸드페어] 해남 꿀고구마 3kg 잔상 특상 혼합 직접 농사지은 고구마 - 해남에서...</td>\n",
       "      <td>7,400원</td>\n",
       "      <td>1,423</td>\n",
       "      <td>https://cr.shopping.naver.com/adcr.nhn?x=0qL8Z...</td>\n",
       "    </tr>\n",
       "    <tr>\n",
       "      <th>358</th>\n",
       "      <td>매니아들의선택 영암 황금호박 토울고구마 한입 황토 세척고구마 2kg 3kg 5kg ...</td>\n",
       "      <td>9,100원</td>\n",
       "      <td>1,420</td>\n",
       "      <td>https://cr.shopping.naver.com/adcr.nhn?x=0AZEl...</td>\n",
       "    </tr>\n",
       "    <tr>\n",
       "      <th>359</th>\n",
       "      <td>실속형 꿀고구마 못난이 (랜덤) 10kg</td>\n",
       "      <td>14,900원</td>\n",
       "      <td>1,412</td>\n",
       "      <td>https://cr.shopping.naver.com/adcr.nhn?x=Wxg2C...</td>\n",
       "    </tr>\n",
       "  </tbody>\n",
       "</table>\n",
       "<p>360 rows × 4 columns</p>\n",
       "</div>"
      ],
      "text/plain": [
       "                                                  name    price review_cnt  \\\n",
       "0                            해남 꿀 호박 고구마 베니하루카 3kg 5kg   7,900원    308,952   \n",
       "1                       해남 꿀 고구마 3kg 5kg 베니하루카 황금호박고구마   5,900원    262,121   \n",
       "2                   무농약 꿀 고구마 3kg 5kg 세척 영암 황금호박 베니하루카  23,900원    158,273   \n",
       "3                   무농약 꿀 고구마 3kg 5kg 세척 영암 황금호박 베니하루카  23,900원    158,273   \n",
       "4                                          김의준 세척 꿀고구마  13,900원    151,575   \n",
       "..                                                 ...      ...        ...   \n",
       "355                                 싱싱한 꿀고구마 한입 2kg 꿀밤   5,900원      1,433   \n",
       "356                   해남 꿀고구마 베니하루카 3kg/5kg (세척/비세척 택)   8,900원      1,426   \n",
       "357  [푸드페어] 해남 꿀고구마 3kg 잔상 특상 혼합 직접 농사지은 고구마 - 해남에서...   7,400원      1,423   \n",
       "358  매니아들의선택 영암 황금호박 토울고구마 한입 황토 세척고구마 2kg 3kg 5kg ...   9,100원      1,420   \n",
       "359                             실속형 꿀고구마 못난이 (랜덤) 10kg  14,900원      1,412   \n",
       "\n",
       "                                                  link  \n",
       "0    https://cr.shopping.naver.com/adcr.nhn?x=39G1O...  \n",
       "1    https://cr.shopping.naver.com/adcr.nhn?x=r9Qsu...  \n",
       "2    https://cr.shopping.naver.com/adcr.nhn?x=iubzK...  \n",
       "3    https://cr.shopping.naver.com/adcr.nhn?x=ZoNe1...  \n",
       "4    https://cr.shopping.naver.com/adcr.nhn?x=sQtP9...  \n",
       "..                                                 ...  \n",
       "355  https://cr.shopping.naver.com/adcr.nhn?x=ZmnFs...  \n",
       "356  https://cr.shopping.naver.com/adcr.nhn?x=AZUwY...  \n",
       "357  https://cr.shopping.naver.com/adcr.nhn?x=0qL8Z...  \n",
       "358  https://cr.shopping.naver.com/adcr.nhn?x=0AZEl...  \n",
       "359  https://cr.shopping.naver.com/adcr.nhn?x=Wxg2C...  \n",
       "\n",
       "[360 rows x 4 columns]"
      ]
     },
     "execution_count": 86,
     "metadata": {},
     "output_type": "execute_result"
    }
   ],
   "source": [
    "df=pd.DataFrame({'name':names,'price':prices,'review_cnt':review_cnts,'link':links})\n",
    "df"
   ]
  },
  {
   "cell_type": "code",
   "execution_count": 78,
   "id": "497cb06c",
   "metadata": {},
   "outputs": [],
   "source": [
    "#데이터프레임을 액셀 (csv)\n",
    "df.to_excel('./best_sweet_potato.xlsx',sep=',',encoding='utf-8-sig')"
   ]
  },
  {
   "cell_type": "code",
   "execution_count": 80,
   "id": "336cd960",
   "metadata": {
    "scrolled": true
   },
   "outputs": [
    {
     "name": "stdout",
     "output_type": "stream",
     "text": [
      "Requirement already satisfied: wordcloud in c:\\users\\pc\\anaconda3\\lib\\site-packages (1.8.2.2)\n",
      "Requirement already satisfied: numpy>=1.6.1 in c:\\users\\pc\\anaconda3\\lib\\site-packages (from wordcloud) (1.21.5)\n",
      "Requirement already satisfied: pillow in c:\\users\\pc\\anaconda3\\lib\\site-packages (from wordcloud) (9.2.0)\n",
      "Requirement already satisfied: matplotlib in c:\\users\\pc\\anaconda3\\lib\\site-packages (from wordcloud) (3.5.2)\n",
      "Requirement already satisfied: cycler>=0.10 in c:\\users\\pc\\anaconda3\\lib\\site-packages (from matplotlib->wordcloud) (0.11.0)\n",
      "Requirement already satisfied: kiwisolver>=1.0.1 in c:\\users\\pc\\anaconda3\\lib\\site-packages (from matplotlib->wordcloud) (1.4.2)\n",
      "Requirement already satisfied: fonttools>=4.22.0 in c:\\users\\pc\\anaconda3\\lib\\site-packages (from matplotlib->wordcloud) (4.25.0)\n",
      "Requirement already satisfied: packaging>=20.0 in c:\\users\\pc\\anaconda3\\lib\\site-packages (from matplotlib->wordcloud) (21.3)\n",
      "Requirement already satisfied: pyparsing>=2.2.1 in c:\\users\\pc\\anaconda3\\lib\\site-packages (from matplotlib->wordcloud) (3.0.9)\n",
      "Requirement already satisfied: python-dateutil>=2.7 in c:\\users\\pc\\anaconda3\\lib\\site-packages (from matplotlib->wordcloud) (2.8.2)\n",
      "Requirement already satisfied: six>=1.5 in c:\\users\\pc\\anaconda3\\lib\\site-packages (from python-dateutil>=2.7->matplotlib->wordcloud) (1.16.0)\n",
      "Note: you may need to restart the kernel to use updated packages.\n"
     ]
    }
   ],
   "source": [
    "pip install wordcloud"
   ]
  },
  {
   "cell_type": "code",
   "execution_count": 93,
   "id": "bfee05ca",
   "metadata": {
    "scrolled": true
   },
   "outputs": [
    {
     "data": {
      "text/plain": [
       "<wordcloud.wordcloud.WordCloud at 0x1bcb13224c0>"
      ]
     },
     "execution_count": 93,
     "metadata": {},
     "output_type": "execute_result"
    }
   ],
   "source": [
    "import sys\n",
    "from wordcloud import WordCloud\n",
    "\n",
    "filename=sys.argv[1]\n",
    "wc=WordCloud(font_path=r\"C:\\Windows\\Fonts\\malgun.ttf\",colormap='PuBu',width=500,height=500)\n",
    "wc.generate(str(df['name']))\n",
    "wc.to_file('고구마.png')\n"
   ]
  },
  {
   "cell_type": "code",
   "execution_count": null,
   "id": "f383cfd7",
   "metadata": {},
   "outputs": [],
   "source": []
  },
  {
   "cell_type": "code",
   "execution_count": null,
   "id": "82eb05db",
   "metadata": {},
   "outputs": [],
   "source": []
  }
 ],
 "metadata": {
  "kernelspec": {
   "display_name": "Python 3 (ipykernel)",
   "language": "python",
   "name": "python3"
  },
  "language_info": {
   "codemirror_mode": {
    "name": "ipython",
    "version": 3
   },
   "file_extension": ".py",
   "mimetype": "text/x-python",
   "name": "python",
   "nbconvert_exporter": "python",
   "pygments_lexer": "ipython3",
   "version": "3.9.13"
  }
 },
 "nbformat": 4,
 "nbformat_minor": 5
}
