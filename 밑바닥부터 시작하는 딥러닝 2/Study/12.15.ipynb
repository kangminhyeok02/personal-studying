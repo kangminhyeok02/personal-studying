{
 "cells": [
  {
   "cell_type": "markdown",
   "metadata": {},
   "source": [
    "## RNN을 사용한 문장 생성"
   ]
  },
  {
   "cell_type": "markdown",
   "metadata": {},
   "source": [
    "1) 확률이 가장 높은 단어 선택 (결정적)\n",
    "2) 확률대로 샘플리하여 선택 (확률적)\n",
    "* 생성한 문장은 훈련데이터에 존재 X / 훈련 데이터를 암기하는 것이 아니라 단어의 정렬 패턴의 학습한 것 ! "
   ]
  },
  {
   "cell_type": "code",
   "execution_count": 2,
   "metadata": {},
   "outputs": [],
   "source": [
    "#앞에서 만든 Rnnlm 클래스 상속한후 문장 생성 메서드만 추가함 \n",
    "import sys \n",
    "sys.path.append('...')\n",
    "import numpy as np \n",
    "from common.functions import softmax\n",
    "from ch06.rnnlm import Rnnlm\n",
    "from ch06.better_rnnlm import BetterRnnlm\n",
    " "
   ]
  },
  {
   "cell_type": "code",
   "execution_count": 4,
   "metadata": {},
   "outputs": [],
   "source": [
    "class RnnlmGen(Rnnlm):\n",
    "    \n",
    "    def generate(self, start_id, skip_ids=None, sample_size=100):\n",
    "        word_ids = [start_id]\n",
    "\n",
    "        x = start_id\n",
    "        while len(word_ids) < sample_size:\n",
    "            #predict() 메서드는 미니배치 처리를 하므로 입력은 2차원 배열이여야함 \n",
    "            x = np.array(x).reshape(1, 1)\n",
    "            score = self.predict(x)\n",
    "            p = softmax(score.flatten())\n",
    "\n",
    "            sampled = np.random.choice(len(p), size=1, p=p)\n",
    "            if (skip_ids is None) or (sampled not in skip_ids):\n",
    "                x = sampled\n",
    "                word_ids.append(int(x))\n",
    "\n",
    "        return word_ids\n",
    "        "
   ]
  },
  {
   "cell_type": "code",
   "execution_count": 11,
   "metadata": {},
   "outputs": [
    {
     "name": "stdout",
     "output_type": "stream",
     "text": [
      "you threaten s.c baum clark severe politics neutral multimillion-dollar peripheral nev. subsequently bar surveyed film fossil stoltzman championship smoking lobbying compensate warm elevators wives stunned hedges chunks setting oversees shanghai underwrite swaps comair taxpayer ability classes dodge every responses gatt nightmare pittston renaissance negotiated katz skyrocketed climbing eddington containers burnham habit district larger son barrier finances infringement microsystems mineral dial paterson hard-disk divestiture mayoral evasion kgb n.c dioxide adjacent yesterday transactions defending strong usually waters buried mandate brewer sizable insulin starts beer walk meaning politics impressive bids austin respectability polly operates fur women 'll allianz pinkerton solving westinghouse made stronger\n"
     ]
    },
    {
     "name": "stderr",
     "output_type": "stream",
     "text": [
      "C:\\Users\\rkdal\\AppData\\Local\\Temp\\ipykernel_7796\\1332912170.py:15: DeprecationWarning: Conversion of an array with ndim > 0 to a scalar is deprecated, and will error in future. Ensure you extract a single element from your array before performing this operation. (Deprecated NumPy 1.25.)\n",
      "  word_ids.append(int(x))\n"
     ]
    }
   ],
   "source": [
    "#문장 생성 (학습x)\n",
    "from dataset import ptb\n",
    "\n",
    "corpus, word_to_id, id_to_word = ptb.load_data('train')\n",
    "vocab_size = len(word_to_id)\n",
    "corpus_size = len(corpus)\n",
    "\n",
    "model = RnnlmGen()\n",
    "#model.load_params('../ch06/Rnnlm.pkl')\n",
    "\n",
    "# start 문자와 skip 문자 설정\n",
    "start_word = 'you'\n",
    "start_id = word_to_id[start_word]\n",
    "skip_words = ['N', '<unk>', '$']\n",
    "skip_ids = [word_to_id[w] for w in skip_words]\n",
    "\n",
    "# 문장 생성\n",
    "word_ids = model.generate(start_id, skip_ids)\n",
    "txt = ' '.join([id_to_word[i] for i in word_ids])\n",
    "txt = txt.replace(' <eos>', '.\\n')\n",
    "print(txt)\n"
   ]
  }
 ],
 "metadata": {
  "kernelspec": {
   "display_name": "Python 3",
   "language": "python",
   "name": "python3"
  },
  "language_info": {
   "codemirror_mode": {
    "name": "ipython",
    "version": 3
   },
   "file_extension": ".py",
   "mimetype": "text/x-python",
   "name": "python",
   "nbconvert_exporter": "python",
   "pygments_lexer": "ipython3",
   "version": "3.11.5"
  }
 },
 "nbformat": 4,
 "nbformat_minor": 2
}
