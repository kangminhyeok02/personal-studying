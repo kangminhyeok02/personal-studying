{
 "cells": [
  {
   "cell_type": "markdown",
   "metadata": {},
   "source": [
    "완전열결계층에 의한 변환의 미니배치 버전"
   ]
  },
  {
   "cell_type": "code",
   "execution_count": 3,
   "metadata": {},
   "outputs": [],
   "source": [
    "import numpy as np \n",
    "W1=np.random.randn(2,4)\n",
    "b1=np.random.randn(4)\n",
    "x=np.random.randn(10,2)\n",
    "h=np.matmul(x,W1)+b1"
   ]
  },
  {
   "cell_type": "markdown",
   "metadata": {},
   "source": [
    "'비선형' 효과를 부여하기 위해 시그모이드 함수 적용 "
   ]
  },
  {
   "cell_type": "code",
   "execution_count": 4,
   "metadata": {},
   "outputs": [
    {
     "data": {
      "text/plain": [
       "array([[-0.73549505, -0.16476181,  1.33590862],\n",
       "       [-0.99385119, -0.37398691,  0.93044902],\n",
       "       [-0.96481017, -0.54003886,  0.95470088],\n",
       "       [-0.63924459, -0.1795481 ,  1.49295402],\n",
       "       [-1.42345988, -0.01667454,  0.10453431],\n",
       "       [-1.57318414, -0.87295263,  0.04299913],\n",
       "       [-0.83566843,  0.06280233,  1.14412535],\n",
       "       [-1.1848844 , -0.66093877,  0.64750547],\n",
       "       [-1.43809683, -0.20852245,  0.19082368],\n",
       "       [-1.47716152, -0.70209124,  0.18246548]])"
      ]
     },
     "execution_count": 4,
     "metadata": {},
     "output_type": "execute_result"
    }
   ],
   "source": [
    "import numpy as np \n",
    "\n",
    "def sigmoid(x):\n",
    "    return 1 / (1+np.exp(-x))\n",
    "\n",
    "W1=np.random.randn(2,4)\n",
    "b1=np.random.randn(4)\n",
    "x=np.random.randn(10,2)\n",
    "W2=np.random.randn(4,3)\n",
    "b2=np.random.randn(3)\n",
    "h=np.matmul(x,W1)+b1\n",
    "a=sigmoid(h)\n",
    "s=np.matmul(a,W2)+b2\n",
    "s\n",
    "\n",
    "\n"
   ]
  },
  {
   "cell_type": "markdown",
   "metadata": {},
   "source": [
    "계층으로 클래스화 및 순전파 구현 \n",
    "- 각 계층은 forward() 메서드만 가짐 \n",
    "- 매개변수들을 params 인스턴스 변수에 보관"
   ]
  },
  {
   "cell_type": "code",
   "execution_count": 5,
   "metadata": {},
   "outputs": [],
   "source": [
    "import numpy as np \n",
    "\n",
    "class Sigmoid:\n",
    "    def __init__(self):\n",
    "        self.params = []\n",
    "        \n",
    "    def forward(self,x):\n",
    "        return 1/(1+np.exp(-x))\n",
    "    \n",
    "class Affine:\n",
    "    def __init__(self,W,b):\n",
    "        self.params=[W,b]\n",
    "    def forward(self,x):\n",
    "        W,b=self.params\n",
    "        out=np.matmul(x,W) + b\n",
    "        return out \n",
    "    \n",
    "    "
   ]
  },
  {
   "cell_type": "markdown",
   "metadata": {},
   "source": [
    "TwoLayerNet"
   ]
  },
  {
   "cell_type": "code",
   "execution_count": 10,
   "metadata": {},
   "outputs": [],
   "source": [
    "class TwoLayerNet:\n",
    "    def __init__(self,input_size,hidden_size,output_size):\n",
    "        I,H,O = input_size , hidden_size , output_size\n",
    "        \n",
    "         # 가중치와 편향 초기화 \n",
    "    \n",
    "        W1=np.random.randn(I,H)\n",
    "        b1=np.random.randn(H)\n",
    "        W2=np.random.randn(H,O)\n",
    "        b2=np.random.randn(O)\n",
    "    \n",
    "        #계층 생성\n",
    "    \n",
    "        self.layers = [\n",
    "            Affine(W1,b1),\n",
    "            Sigmoid(),\n",
    "            Affine(W2,b2)\n",
    "        ]\n",
    "    \n",
    "        #모든 가중치를 리스트에 모은다 \n",
    "        self.params = []\n",
    "        for layer in self.layers:\n",
    "            self.params +=layer.params\n",
    "        \n",
    "    def predict(self,x):\n",
    "        for layer in self.layers:\n",
    "            x=layer.forward(x)\n",
    "        \n",
    "        return x\n",
    "    \n",
    "     "
   ]
  },
  {
   "cell_type": "code",
   "execution_count": 11,
   "metadata": {},
   "outputs": [
    {
     "data": {
      "text/plain": [
       "array([[-1.15554109, -1.80434614, -1.3834495 ],\n",
       "       [-1.7619511 , -2.43999033, -1.07109735],\n",
       "       [-1.37758282, -2.0693084 , -1.35050702],\n",
       "       [-1.08633127, -1.69280109, -1.31500344],\n",
       "       [-1.72163507, -2.412562  , -1.12278632],\n",
       "       [-1.41148124, -2.08692505, -1.299643  ],\n",
       "       [-1.09984836, -1.70507314, -1.22799136],\n",
       "       [-0.81260769, -1.38013378, -1.42931139],\n",
       "       [-0.7878094 , -1.35063344, -1.39307527],\n",
       "       [-0.71686116, -1.2646416 , -1.49880898]])"
      ]
     },
     "execution_count": 11,
     "metadata": {},
     "output_type": "execute_result"
    }
   ],
   "source": [
    "x=np.random.randn(10,2)\n",
    "model=TwoLayerNet(2,4,3)\n",
    "s=model.predict(x)\n",
    "s"
   ]
  }
 ],
 "metadata": {
  "kernelspec": {
   "display_name": "base",
   "language": "python",
   "name": "python3"
  },
  "language_info": {
   "codemirror_mode": {
    "name": "ipython",
    "version": 3
   },
   "file_extension": ".py",
   "mimetype": "text/x-python",
   "name": "python",
   "nbconvert_exporter": "python",
   "pygments_lexer": "ipython3",
   "version": "3.11.4"
  }
 },
 "nbformat": 4,
 "nbformat_minor": 2
}
