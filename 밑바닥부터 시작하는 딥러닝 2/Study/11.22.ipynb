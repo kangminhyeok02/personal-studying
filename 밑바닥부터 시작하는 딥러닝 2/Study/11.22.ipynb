{
 "cells": [
  {
   "cell_type": "markdown",
   "metadata": {},
   "source": [
    "신경망의 학습"
   ]
  },
  {
   "cell_type": "code",
   "execution_count": 1,
   "metadata": {},
   "outputs": [],
   "source": [
    "#softmax with Loss\n",
    "class SoftmaxWithLoss:\n",
    "    def __init__(self):\n",
    "        self.loss = None # 손실\n",
    "        self.y = None    # softmax의 출력\n",
    "        self.t = None    # 정답레이블(원-핫 벡터)\n",
    "\n",
    "    def forward(self, x, t):\n",
    "        self.t = t\n",
    "        self.y = softmax(x)\n",
    "        self.loss = cross_entropy_error(self.y,self.t)\n",
    "        return self.loss\n",
    "                \n",
    "    def backward(self, dout=1):\n",
    "        batch_size = self.t.shape[0]\n",
    "        dx = (self.y - self.t) / batch_size\n",
    "\n",
    "        return dx"
   ]
  },
  {
   "cell_type": "markdown",
   "metadata": {},
   "source": [
    "계산 그래프 \n",
    "- 덧셈 노드 \n",
    "- 곱셈 노드 \n",
    "- 분기 노드 \n",
    "- Repeat 노드\n",
    "- Sum 노드 \n",
    "- MatMul 노드 \n"
   ]
  },
  {
   "cell_type": "code",
   "execution_count": 2,
   "metadata": {},
   "outputs": [
    {
     "data": {
      "text/plain": [
       "array([[-1.61509355, -4.95932305, -1.49307011,  0.02712772,  2.28889475,\n",
       "         0.11580762, -2.79618437,  3.19971182]])"
      ]
     },
     "execution_count": 2,
     "metadata": {},
     "output_type": "execute_result"
    }
   ],
   "source": [
    "#Repeat 노드 \n",
    "import numpy as np \n",
    "D,N = 8,7 \n",
    "x = np.random.randn(1,D)\n",
    "y = np.repeat(x,N,axis=0)\n",
    "dy = np.random.randn(N,D) #무작위 기울기 \n",
    "dx = np.sum(dy,axis=0 ,keepdims=True) #역전파\n",
    "dx"
   ]
  },
  {
   "cell_type": "code",
   "execution_count": 3,
   "metadata": {},
   "outputs": [
    {
     "data": {
      "text/plain": [
       "array([[ 0.55210329, -0.9279386 , -0.35516701, -1.51663666, -0.81021268,\n",
       "        -0.31028748, -0.6089007 ,  0.76986434],\n",
       "       [ 0.55210329, -0.9279386 , -0.35516701, -1.51663666, -0.81021268,\n",
       "        -0.31028748, -0.6089007 ,  0.76986434],\n",
       "       [ 0.55210329, -0.9279386 , -0.35516701, -1.51663666, -0.81021268,\n",
       "        -0.31028748, -0.6089007 ,  0.76986434],\n",
       "       [ 0.55210329, -0.9279386 , -0.35516701, -1.51663666, -0.81021268,\n",
       "        -0.31028748, -0.6089007 ,  0.76986434],\n",
       "       [ 0.55210329, -0.9279386 , -0.35516701, -1.51663666, -0.81021268,\n",
       "        -0.31028748, -0.6089007 ,  0.76986434],\n",
       "       [ 0.55210329, -0.9279386 , -0.35516701, -1.51663666, -0.81021268,\n",
       "        -0.31028748, -0.6089007 ,  0.76986434],\n",
       "       [ 0.55210329, -0.9279386 , -0.35516701, -1.51663666, -0.81021268,\n",
       "        -0.31028748, -0.6089007 ,  0.76986434]])"
      ]
     },
     "execution_count": 3,
     "metadata": {},
     "output_type": "execute_result"
    }
   ],
   "source": [
    "#Sum 노드 \n",
    "import numpy as np \n",
    "D,N=8,7\n",
    "x=np.random.randn(N,D)\n",
    "y=np.sum(x,axis=0,keepdims=True)\n",
    "dy=np.random.randn(1,D)\n",
    "dx=np.repeat(dy,N,axis=0)\n",
    "dx"
   ]
  },
  {
   "cell_type": "code",
   "execution_count": 4,
   "metadata": {},
   "outputs": [],
   "source": [
    "#MatMul 노드\n",
    "class MatMul:\n",
    "    def __init__(self,W):\n",
    "        self.params = [W]\n",
    "        self.grads = [np.zeros_like(W)]\n",
    "        self.x= None \n",
    "        \n",
    "    def forward(self,x):\n",
    "        W, = self.params\n",
    "        out = np.matmul(x,W)\n",
    "        self.x = x\n",
    "        return out \n",
    "    \n",
    "    def backward(self,dout):\n",
    "        W, = self.params\n",
    "        dx = np.matmul(dout,W.T)\n",
    "        dW = np.matmul(self.x.T,dout)\n",
    "        #깊은 복사 \n",
    "        self.grads[0][...] = dW\n",
    "        return dx\n",
    "    "
   ]
  },
  {
   "cell_type": "markdown",
   "metadata": {},
   "source": [
    "Simgoid 계층 구현"
   ]
  },
  {
   "cell_type": "code",
   "execution_count": 5,
   "metadata": {},
   "outputs": [],
   "source": [
    "class Sigmoid:\n",
    "    def __init__(self):\n",
    "        self.params,self.grads = [],[]\n",
    "        self.out = None\n",
    "        \n",
    "    def forward(self,x):\n",
    "        out = 1 / (1+np.exp(-x))\n",
    "        self.out=out\n",
    "        return out \n",
    "    \n",
    "    def backward(self,dout):\n",
    "        dx = dout * (1.0- self.out) *self.out\n",
    "        return dx \n",
    "    \n",
    "        "
   ]
  },
  {
   "cell_type": "markdown",
   "metadata": {},
   "source": [
    "Affine 계층 구현"
   ]
  },
  {
   "cell_type": "code",
   "execution_count": 6,
   "metadata": {},
   "outputs": [],
   "source": [
    "class Affine:\n",
    "    def __init__(self,W,b):\n",
    "        self.params = [W,b]\n",
    "        self.grads = [np.zeros_like(W), np.zeros_like(b)]\n",
    "        self.x = None\n",
    "        \n",
    "    def forward(self,x):\n",
    "        W,b=self.params\n",
    "        out = np.matmul(x,W) + b\n",
    "        self.x = x \n",
    "        return out \n",
    "    \n",
    "    def backward(self,dout):\n",
    "        W,b=self.params\n",
    "        dx = np.matmul(dout,W.T)\n",
    "        dW = np.matmul(self.x.T , dout)\n",
    "        db = np.sum(dout , axis=0)\n",
    "        \n",
    "        \n",
    "        self.grads[0][...] = dW\n",
    "        self.grads[1][...] = db\n",
    "        \n",
    "        return dx \n",
    "        \n",
    "        \n",
    "        \n",
    "        \n",
    "        \n",
    "        \n",
    "        \n",
    "        \n",
    "        \n",
    "        \n",
    "        \n",
    "            \n",
    "    "
   ]
  },
  {
   "cell_type": "markdown",
   "metadata": {},
   "source": [
    "가중치 갱신 \n",
    "1. 미니배치\n",
    "2. 기우리 계산\n",
    "3. 매개변수 갱신 \n",
    "4. 반복 "
   ]
  },
  {
   "cell_type": "code",
   "execution_count": 3,
   "metadata": {},
   "outputs": [],
   "source": [
    "#SGD 구현 \n",
    "class SGD:\n",
    "    def __init__(self,lr=0.01):\n",
    "        self.lr = lr \n",
    "        \n",
    "    def update(self,params,grads):\n",
    "        for i in range(len(params)):\n",
    "            params[i]-=self.lr * grads[i]"
   ]
  },
  {
   "cell_type": "markdown",
   "metadata": {},
   "source": [
    "간단한 실습 by 스파이럴 데이터셋"
   ]
  },
  {
   "cell_type": "code",
   "execution_count": 25,
   "metadata": {},
   "outputs": [],
   "source": [
    "# coding: utf-8\n",
    "import numpy as np\n",
    "\n",
    "\n",
    "def load_data(seed=1984):\n",
    "    np.random.seed(seed)\n",
    "    N = 100  # 클래스당 샘플 수\n",
    "    DIM = 2  # 데어터 요소 수\n",
    "    CLS_NUM = 3  # 클래스 수\n",
    "\n",
    "    x = np.zeros((N*CLS_NUM, DIM))\n",
    "    t = np.zeros((N*CLS_NUM, CLS_NUM), dtype=np.int)\n",
    "\n",
    "    for j in range(CLS_NUM):\n",
    "        for i in range(N): # N*j, N*(j+1)):\n",
    "            rate = i / N\n",
    "            radius = 1.0*rate\n",
    "            theta = j*4.0 + 4.0*rate + np.random.randn()*0.2\n",
    "\n",
    "            ix = N*j + i\n",
    "            x[ix] = np.array([radius*np.sin(theta),\n",
    "                              radius*np.cos(theta)]).flatten()\n",
    "            t[ix, j] = 1\n",
    "\n",
    "    return x, t"
   ]
  },
  {
   "cell_type": "code",
   "execution_count": 12,
   "metadata": {},
   "outputs": [
    {
     "name": "stdout",
     "output_type": "stream",
     "text": [
      "Collecting numpy==1.18.5\n",
      "  Using cached numpy-1.18.5.zip (5.4 MB)\n",
      "  Installing build dependencies: started\n",
      "  Installing build dependencies: finished with status 'done'\n",
      "  Getting requirements to build wheel: started\n",
      "  Getting requirements to build wheel: finished with status 'done'\n",
      "  Preparing metadata (pyproject.toml): started\n",
      "  Preparing metadata (pyproject.toml): finished with status 'error'\n"
     ]
    },
    {
     "name": "stderr",
     "output_type": "stream",
     "text": [
      "  error: subprocess-exited-with-error\n",
      "  \n",
      "  × Preparing metadata (pyproject.toml) did not run successfully.\n",
      "  │ exit code: 1\n",
      "  ╰─> [92 lines of output]\n",
      "      Running from numpy source directory.\n",
      "      <string>:461: UserWarning: Unrecognized setuptools command, proceeding with generating Cython sources and expanding templates\n",
      "      Cythonizing sources\n",
      "      Processing numpy/random\\_bounded_integers.pxd.in\n",
      "      Processing numpy/random\\mtrand.pyx\n",
      "      C:\\Users\\rkdal\\AppData\\Local\\Temp\\pip-install-fry8cl0m\\numpy_eff3a28161de43e8902292992dee2521\\tools\\cythonize.py:75: DeprecationWarning: distutils Version classes are deprecated. Use packaging.version instead.\n",
      "        required_version = LooseVersion('0.29.14')\n",
      "      C:\\Users\\rkdal\\AppData\\Local\\Temp\\pip-install-fry8cl0m\\numpy_eff3a28161de43e8902292992dee2521\\tools\\cythonize.py:77: DeprecationWarning: distutils Version classes are deprecated. Use packaging.version instead.\n",
      "        if LooseVersion(cython_version) < required_version:\n",
      "      Processing numpy/random\\_bit_generator.pyx\n",
      "      Processing numpy/random\\_bounded_integers.pyx.in\n",
      "      Processing numpy/random\\_common.pyx\n",
      "      performance hint: _common.pyx:261:19: Exception check will always require the GIL to be acquired. Declare the function as 'noexcept' if you control the definition and you're sure you don't want the function to raise exceptions.\n",
      "      performance hint: _common.pyx:285:19: Exception check will always require the GIL to be acquired. Declare the function as 'noexcept' if you control the definition and you're sure you don't want the function to raise exceptions.\n",
      "      performance hint: _common.pyx:308:50: Exception check will always require the GIL to be acquired. Declare the function as 'noexcept' if you control the definition and you're sure you don't want the function to raise exceptions.\n",
      "      performance hint: _common.pyx:411:31: Exception check will always require the GIL to be acquired. Declare the function as 'noexcept' if you control the definition and you're sure you don't want the function to raise exceptions.\n",
      "      performance hint: _common.pyx:448:31: Exception check will always require the GIL to be acquired. Declare the function as 'noexcept' if you control the definition and you're sure you don't want the function to raise exceptions.\n",
      "      performance hint: _common.pyx:490:31: Exception check will always require the GIL to be acquired. Declare the function as 'noexcept' if you control the definition and you're sure you don't want the function to raise exceptions.\n",
      "      performance hint: _common.pyx:573:36: Exception check will always require the GIL to be acquired. Declare the function as 'noexcept' if you control the definition and you're sure you don't want the function to raise exceptions.\n",
      "      performance hint: _common.pyx:577:36: Exception check will always require the GIL to be acquired. Declare the function as 'noexcept' if you control the definition and you're sure you don't want the function to raise exceptions.\n",
      "      performance hint: _common.pyx:581:36: Exception check will always require the GIL to be acquired. Declare the function as 'noexcept' if you control the definition and you're sure you don't want the function to raise exceptions.\n",
      "      performance hint: _common.pyx:585:36: Exception check will always require the GIL to be acquired. Declare the function as 'noexcept' if you control the definition and you're sure you don't want the function to raise exceptions.\n",
      "      performance hint: _common.pyx:617:31: Exception check will always require the GIL to be acquired. Declare the function as 'noexcept' if you control the definition and you're sure you don't want the function to raise exceptions.\n",
      "      performance hint: _common.pyx:652:31: Exception check will always require the GIL to be acquired. Declare the function as 'noexcept' if you control the definition and you're sure you don't want the function to raise exceptions.\n",
      "      performance hint: _common.pyx:687:63: Exception check will always require the GIL to be acquired. Declare the function as 'noexcept' if you control the definition and you're sure you don't want the function to raise exceptions.\n",
      "      performance hint: _common.pyx:727:31: Exception check will always require the GIL to be acquired. Declare the function as 'noexcept' if you control the definition and you're sure you don't want the function to raise exceptions.\n",
      "      performance hint: _common.pyx:756:31: Exception check will always require the GIL to be acquired. Declare the function as 'noexcept' if you control the definition and you're sure you don't want the function to raise exceptions.\n",
      "      performance hint: _common.pyx:874:40: Exception check will always require the GIL to be acquired. Declare the function as 'noexcept' if you control the definition and you're sure you don't want the function to raise exceptions.\n",
      "      performance hint: _common.pyx:878:40: Exception check will always require the GIL to be acquired. Declare the function as 'noexcept' if you control the definition and you're sure you don't want the function to raise exceptions.\n",
      "      performance hint: _common.pyx:882:41: Exception check will always require the GIL to be acquired. Declare the function as 'noexcept' if you control the definition and you're sure you don't want the function to raise exceptions.\n",
      "      performance hint: _common.pyx:887:40: Exception check will always require the GIL to be acquired. Declare the function as 'noexcept' if you control the definition and you're sure you don't want the function to raise exceptions.\n",
      "      performance hint: _common.pyx:891:41: Exception check will always require the GIL to be acquired. Declare the function as 'noexcept' if you control the definition and you're sure you don't want the function to raise exceptions.\n",
      "      performance hint: _common.pyx:895:38: Exception check will always require the GIL to be acquired. Declare the function as 'noexcept' if you control the definition and you're sure you don't want the function to raise exceptions.\n",
      "      performance hint: _common.pyx:930:31: Exception check will always require the GIL to be acquired. Declare the function as 'noexcept' if you control the definition and you're sure you don't want the function to raise exceptions.\n",
      "      performance hint: _common.pyx:972:32: Exception check will always require the GIL to be acquired. Declare the function as 'noexcept' if you control the definition and you're sure you don't want the function to raise exceptions.\n",
      "      Processing numpy/random\\_generator.pyx\n",
      "      performance hint: _generator.pyx:811:41: Exception check will always require the GIL to be acquired.\n",
      "      Possible solutions:\n",
      "          1. Declare the function as 'noexcept' if you control the definition and you're sure you don't want the function to raise exceptions.\n",
      "          2. Use an 'int' return type on the function to allow an error code to be returned.\n",
      "      performance hint: _generator.pyx:840:45: Exception check will always require the GIL to be acquired.\n",
      "      Possible solutions:\n",
      "          1. Declare the function as 'noexcept' if you control the definition and you're sure you don't want the function to raise exceptions.\n",
      "          2. Use an 'int' return type on the function to allow an error code to be returned.\n",
      "      Processing numpy/random\\_mt19937.pyx\n",
      "      \n",
      "      Error compiling Cython file:\n",
      "      ------------------------------------------------------------\n",
      "      ...\n",
      "              for i in range(1, RK_STATE_LEN):\n",
      "                  self.rng_state.key[i] = val[i]\n",
      "              self.rng_state.pos = i\n",
      "      \n",
      "              self._bitgen.state = &self.rng_state\n",
      "              self._bitgen.next_uint64 = &mt19937_uint64\n",
      "                                         ^\n",
      "      ------------------------------------------------------------\n",
      "      \n",
      "      _mt19937.pyx:138:35: Cannot assign type 'uint64_t (*)(void *) except? -1 nogil' to 'uint64_t (*)(void *) noexcept nogil'. Exception values are incompatible. Suggest adding 'noexcept' to type 'uint64_t (void *) except? -1 nogil'.\n",
      "      Traceback (most recent call last):\n",
      "        File \"C:\\Users\\rkdal\\AppData\\Local\\Temp\\pip-install-fry8cl0m\\numpy_eff3a28161de43e8902292992dee2521\\tools\\cythonize.py\", line 238, in <module>\n",
      "          main()\n",
      "        File \"C:\\Users\\rkdal\\AppData\\Local\\Temp\\pip-install-fry8cl0m\\numpy_eff3a28161de43e8902292992dee2521\\tools\\cythonize.py\", line 234, in main\n",
      "          find_process_files(root_dir)\n",
      "        File \"C:\\Users\\rkdal\\AppData\\Local\\Temp\\pip-install-fry8cl0m\\numpy_eff3a28161de43e8902292992dee2521\\tools\\cythonize.py\", line 225, in find_process_files\n",
      "          process(root_dir, fromfile, tofile, function, hash_db)\n",
      "        File \"C:\\Users\\rkdal\\AppData\\Local\\Temp\\pip-install-fry8cl0m\\numpy_eff3a28161de43e8902292992dee2521\\tools\\cythonize.py\", line 191, in process\n",
      "          processor_function(fromfile, tofile)\n",
      "        File \"C:\\Users\\rkdal\\AppData\\Local\\Temp\\pip-install-fry8cl0m\\numpy_eff3a28161de43e8902292992dee2521\\tools\\cythonize.py\", line 80, in process_pyx\n",
      "          subprocess.check_call(\n",
      "        File \"C:\\Users\\rkdal\\anaconda3\\Lib\\subprocess.py\", line 413, in check_call\n",
      "          raise CalledProcessError(retcode, cmd)\n",
      "      subprocess.CalledProcessError: Command '['C:\\\\Users\\\\rkdal\\\\anaconda3\\\\python.exe', '-m', 'cython', '-3', '--fast-fail', '-o', '_mt19937.c', '_mt19937.pyx']' returned non-zero exit status 1.\n",
      "      Traceback (most recent call last):\n",
      "        File \"C:\\Users\\rkdal\\anaconda3\\Lib\\site-packages\\pip\\_vendor\\pyproject_hooks\\_in_process\\_in_process.py\", line 353, in <module>\n",
      "          main()\n",
      "        File \"C:\\Users\\rkdal\\anaconda3\\Lib\\site-packages\\pip\\_vendor\\pyproject_hooks\\_in_process\\_in_process.py\", line 335, in main\n",
      "          json_out['return_val'] = hook(**hook_input['kwargs'])\n",
      "                                   ^^^^^^^^^^^^^^^^^^^^^^^^^^^^\n",
      "        File \"C:\\Users\\rkdal\\anaconda3\\Lib\\site-packages\\pip\\_vendor\\pyproject_hooks\\_in_process\\_in_process.py\", line 149, in prepare_metadata_for_build_wheel\n",
      "          return hook(metadata_directory, config_settings)\n",
      "                 ^^^^^^^^^^^^^^^^^^^^^^^^^^^^^^^^^^^^^^^^^\n",
      "        File \"C:\\Users\\rkdal\\AppData\\Local\\Temp\\pip-build-env-24ua3g7a\\overlay\\Lib\\site-packages\\setuptools\\build_meta.py\", line 366, in prepare_metadata_for_build_wheel\n",
      "          self.run_setup()\n",
      "        File \"C:\\Users\\rkdal\\AppData\\Local\\Temp\\pip-build-env-24ua3g7a\\overlay\\Lib\\site-packages\\setuptools\\build_meta.py\", line 480, in run_setup\n",
      "          super(_BuildMetaLegacyBackend, self).run_setup(setup_script=setup_script)\n",
      "        File \"C:\\Users\\rkdal\\AppData\\Local\\Temp\\pip-build-env-24ua3g7a\\overlay\\Lib\\site-packages\\setuptools\\build_meta.py\", line 311, in run_setup\n",
      "          exec(code, locals())\n",
      "        File \"<string>\", line 488, in <module>\n",
      "        File \"<string>\", line 469, in setup_package\n",
      "        File \"<string>\", line 275, in generate_cython\n",
      "      RuntimeError: Running cythonize failed!\n",
      "      [end of output]\n",
      "  \n",
      "  note: This error originates from a subprocess, and is likely not a problem with pip.\n",
      "error: metadata-generation-failed\n",
      "\n",
      "× Encountered error while generating package metadata.\n",
      "╰─> See above for output.\n",
      "\n",
      "note: This is an issue with the package mentioned above, not pip.\n",
      "hint: See above for details.\n"
     ]
    }
   ],
   "source": [
    "! pip install numpy==1.18.5"
   ]
  },
  {
   "cell_type": "code",
   "execution_count": 20,
   "metadata": {},
   "outputs": [
    {
     "data": {
      "text/plain": [
       "array([[-6.27584185e-01,  4.28641845e-01, -9.31275549e-01,\n",
       "        -1.00332808e+00,  2.49630546e+00, -8.74106094e-01,\n",
       "         9.91703352e-01,  2.44456735e-01],\n",
       "       [-1.07439829e+00,  5.40508285e-01,  5.40881905e-01,\n",
       "        -8.20055479e-01,  2.50269666e-01, -3.53634103e-01,\n",
       "         1.86674816e-02, -2.42050906e-01],\n",
       "       [-8.88400624e-01,  1.06652142e-05, -2.77446373e-01,\n",
       "         5.94140998e-01, -4.99679466e-01,  9.13599986e-01,\n",
       "         8.22022449e-01, -7.13991677e-01],\n",
       "       [-2.74198450e-01,  1.35935489e+00,  1.03629919e+00,\n",
       "        -7.83935003e-01, -2.00864612e+00,  1.35110438e+00,\n",
       "         1.54107158e+00, -1.31152539e+00],\n",
       "       [ 4.44160247e-01, -1.14336995e+00,  4.10892440e-01,\n",
       "        -7.80886707e-01, -8.95445798e-01, -1.71916328e+00,\n",
       "        -1.08228072e+00, -6.47111103e-02],\n",
       "       [ 1.41036316e+00, -1.37079444e-01, -2.67239978e-01,\n",
       "        -2.86675847e-01, -1.02284405e+00,  1.71028074e+00,\n",
       "        -2.07514231e-01, -1.73826008e-02],\n",
       "       [ 5.84358651e-01, -1.50533422e+00, -8.15986353e-02,\n",
       "         1.53770780e-01,  2.27522769e-01, -1.04093688e+00,\n",
       "        -9.30941614e-02,  7.77730969e-01]])"
      ]
     },
     "execution_count": 20,
     "metadata": {},
     "output_type": "execute_result"
    }
   ],
   "source": [
    "x"
   ]
  }
 ],
 "metadata": {
  "kernelspec": {
   "display_name": "base",
   "language": "python",
   "name": "python3"
  },
  "language_info": {
   "codemirror_mode": {
    "name": "ipython",
    "version": 3
   },
   "file_extension": ".py",
   "mimetype": "text/x-python",
   "name": "python",
   "nbconvert_exporter": "python",
   "pygments_lexer": "ipython3",
   "version": "3.11.4"
  }
 },
 "nbformat": 4,
 "nbformat_minor": 2
}
