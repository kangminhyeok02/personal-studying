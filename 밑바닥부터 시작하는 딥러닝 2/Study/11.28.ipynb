{
 "cells": [
  {
   "cell_type": "markdown",
   "metadata": {},
   "source": [
    "#### 단어의 분산 표현\n",
    "- 단어의 의미를 정확하게 파악할 수 있는 벡터 표현 "
   ]
  },
  {
   "cell_type": "markdown",
   "metadata": {},
   "source": [
    "분포가설 : 단어의 의미는 주변 단어에 의해 형성된다\n",
    "-> 맥락(윈도우 크기)의 파악하는 것이 중요함 "
   ]
  },
  {
   "cell_type": "code",
   "execution_count": 1,
   "metadata": {},
   "outputs": [],
   "source": [
    "import sys\n",
    "sys.path.append('..')\n",
    "import numpy as np \n",
    "from common.util import preprocess "
   ]
  },
  {
   "cell_type": "code",
   "execution_count": 8,
   "metadata": {},
   "outputs": [
    {
     "name": "stdout",
     "output_type": "stream",
     "text": [
      "[0 1 2 3 4 1 5 6]\n",
      "{0: 'you', 1: 'say', 2: 'goodbye', 3: 'and', 4: 'i', 5: 'hello', 6: '.'}\n"
     ]
    }
   ],
   "source": [
    "text = 'You say goodbye and I say hello.'\n",
    "corpus,word_to_id,id_to_word = preprocess(text)\n",
    "\n",
    "print(corpus)\n",
    "\n",
    "print(id_to_word)\n"
   ]
  },
  {
   "cell_type": "code",
   "execution_count": 42,
   "metadata": {},
   "outputs": [],
   "source": [
    "#말뭉치로부터 동시발생 행렬을 만들어주는 함수 구현 \n",
    "def create_co_matrix(corpus,vocab_size,window_size=1):\n",
    "    corpus_size = len(corpus)\n",
    "    co_matrix=np.zeros((vocab_size,vocab_size),dtype=np.int32)\n",
    "    \n",
    "    for idx,word_id in enumerate(corpus):\n",
    "        #print(idx)\n",
    "        for i in range(1,window_size + 1):\n",
    "            left_idx = idx -i\n",
    "            right_idx = idx +i\n",
    "            \n",
    "            #print(f'word id:{word_id}')\n",
    "            \n",
    "            if left_idx >=0:\n",
    "                left_word_id = corpus[left_idx]\n",
    "                #print(f'left_word id:{left_word_id}')\n",
    "                co_matrix[word_id,left_word_id]+=1 \n",
    "                \n",
    "            if right_idx < corpus_size:\n",
    "                right_word_id = corpus[right_idx]\n",
    "                #print(f'right_word id:{right_word_id}')\n",
    "                co_matrix[word_id,right_word_id] +=1 \n",
    "                \n",
    "                \n",
    "    return co_matrix\n",
    "                \n",
    "            "
   ]
  },
  {
   "cell_type": "code",
   "execution_count": 28,
   "metadata": {},
   "outputs": [
    {
     "data": {
      "text/plain": [
       "array([0, 1, 2, 3, 4, 1, 5, 6])"
      ]
     },
     "execution_count": 28,
     "metadata": {},
     "output_type": "execute_result"
    }
   ],
   "source": [
    "corpus"
   ]
  },
  {
   "cell_type": "code",
   "execution_count": 43,
   "metadata": {},
   "outputs": [
    {
     "data": {
      "text/plain": [
       "array([[0, 1, 0, 0, 0, 0, 0],\n",
       "       [1, 0, 1, 0, 1, 1, 0],\n",
       "       [0, 1, 0, 1, 0, 0, 0],\n",
       "       [0, 0, 1, 0, 1, 0, 0],\n",
       "       [0, 1, 0, 1, 0, 0, 0],\n",
       "       [0, 1, 0, 0, 0, 0, 0],\n",
       "       [0, 0, 0, 0, 0, 0, 0]])"
      ]
     },
     "execution_count": 43,
     "metadata": {},
     "output_type": "execute_result"
    }
   ],
   "source": [
    "create_co_matrix(corpus,7,1)"
   ]
  },
  {
   "cell_type": "markdown",
   "metadata": {},
   "source": [
    "벡터 간 유사도\n",
    "- 코사인 유사도"
   ]
  },
  {
   "cell_type": "code",
   "execution_count": 44,
   "metadata": {},
   "outputs": [],
   "source": [
    "#코사인 유사도 함수\n",
    "# 제로벡터 들어오는 경우 -> eps 사용하여 해결\n",
    "def cos_similarity(x,y,eps=1e-8):\n",
    "    nx=x / np.sqrt(np.sum(x**2)+eps) # x의 정규화\n",
    "    ny=y / np.sqrt(np.sum(y**2)+eps) # y의 정규화\n",
    "    \n",
    "    return np.dot(nx,ny)"
   ]
  },
  {
   "cell_type": "code",
   "execution_count": 45,
   "metadata": {},
   "outputs": [
    {
     "name": "stdout",
     "output_type": "stream",
     "text": [
      "0.7071067758832467\n"
     ]
    }
   ],
   "source": [
    "#you,i 의 유사도 구하기 \n",
    "\n",
    "import sys \n",
    "sys.path.append('..')\n",
    "from common.util import preprocess \n",
    "\n",
    "text = 'You say goodbye and I say hello'\n",
    "corpus,word_to_id,id_to_word=preprocess(text)\n",
    "vocab_size = len(word_to_id)\n",
    "C= create_co_matrix(corpus,vocab_size)\n",
    "c0=C[word_to_id['you']]\n",
    "c1=C[word_to_id['i']]\n",
    "\n",
    "print(cos_similarity(c0,c1))\n"
   ]
  },
  {
   "cell_type": "code",
   "execution_count": 46,
   "metadata": {},
   "outputs": [],
   "source": [
    "#어떤 단어가 검색어로 주어지면, 그 검색어와 비슷한 단어를 유사도 순으로 출력하는 함수 \n",
    "def most_similar(query,word_to_id,id_to_word,word_matrix,top=5):\n",
    "   \n",
    "    #1)검색어를 꺼낸다\n",
    "    if query not in word_to_id:\n",
    "        print('%s를 찾을 수 없습니다.' % query)\n",
    "        return \n",
    "    \n",
    "    print ('\\n[query]'+ query)\n",
    "    query_id = word_to_id[query]\n",
    "    query_vec = word_matrix[query_id]\n",
    "    \n",
    "    #2)코사인 유사도 계산 \n",
    "    vocab_size=len(word_to_id)\n",
    "    similarity=np.zeros(vocab_size)\n",
    "    for i in range(vocab_size):\n",
    "        similarity[i] = cos_similarity(word_matrix[i],query_vec)\n",
    "        \n",
    "    #3)코사인 유사도를 기준으로 내림차순으로 출력 \n",
    "    count=0\n",
    "    for i in (-1*similarity).argsort():\n",
    "        if id_to_word[i] == query : \n",
    "            continue \n",
    "        print('%s:%s' %(id_to_word[i],similarity[i]))\n",
    "        \n",
    "        count+=1 \n",
    "        if count >=top:\n",
    "            return "
   ]
  },
  {
   "cell_type": "code",
   "execution_count": 52,
   "metadata": {},
   "outputs": [
    {
     "name": "stdout",
     "output_type": "stream",
     "text": [
      "\n",
      "[query]you\n",
      "me:0.7071067758832467\n",
      "i:0.7071067758832467\n",
      "hello:0.7071067758832467\n"
     ]
    }
   ],
   "source": [
    "text = 'You say me goodbye and i say hello mother and father.'\n",
    "corpus,word_to_id,id_to_word=preprocess(text)\n",
    "vocab_size=len(word_to_id)\n",
    "C=create_co_matrix(corpus,vocab_size)\n",
    "most_similar('you',word_to_id,id_to_word,C,top=3)"
   ]
  },
  {
   "cell_type": "code",
   "execution_count": null,
   "metadata": {},
   "outputs": [],
   "source": []
  }
 ],
 "metadata": {
  "kernelspec": {
   "display_name": "Python 3",
   "language": "python",
   "name": "python3"
  },
  "language_info": {
   "codemirror_mode": {
    "name": "ipython",
    "version": 3
   },
   "file_extension": ".py",
   "mimetype": "text/x-python",
   "name": "python",
   "nbconvert_exporter": "python",
   "pygments_lexer": "ipython3",
   "version": "3.11.5"
  }
 },
 "nbformat": 4,
 "nbformat_minor": 2
}
